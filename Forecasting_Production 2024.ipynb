{
 "cells": [
  {
   "cell_type": "code",
   "execution_count": 1,
   "metadata": {},
   "outputs": [],
   "source": [
    "import pandas as pd \n",
    "import numpy as np \n",
    "import matplotlib.pyplot as plt \n",
    "import seaborn as sns \n",
    "import warnings\n",
    "import itertools\n",
    "warnings.filterwarnings('ignore')\n",
    "from prophet import Prophet\n",
    "from sklearn.metrics import mean_absolute_percentage_error as smape\n",
    "from datetime import datetime\n",
    "import itertools\n",
    "import pyodbc\n",
    "from dotenv.main import load_dotenv\n",
    "import os"
   ]
  },
  {
   "cell_type": "code",
   "execution_count": 3,
   "metadata": {},
   "outputs": [
    {
     "data": {
      "text/html": [
       "<div>\n",
       "<style scoped>\n",
       "    .dataframe tbody tr th:only-of-type {\n",
       "        vertical-align: middle;\n",
       "    }\n",
       "\n",
       "    .dataframe tbody tr th {\n",
       "        vertical-align: top;\n",
       "    }\n",
       "\n",
       "    .dataframe thead th {\n",
       "        text-align: right;\n",
       "    }\n",
       "</style>\n",
       "<table border=\"1\" class=\"dataframe\">\n",
       "  <thead>\n",
       "    <tr style=\"text-align: right;\">\n",
       "      <th></th>\n",
       "      <th>Tanggal</th>\n",
       "      <th>Bulan</th>\n",
       "      <th>Tahun</th>\n",
       "      <th>Jenis</th>\n",
       "      <th>Tipe</th>\n",
       "      <th>Contractor Name</th>\n",
       "      <th>Area</th>\n",
       "      <th>Desc 2 Name</th>\n",
       "      <th>Loc Src Area Name</th>\n",
       "      <th>Loc Src Label</th>\n",
       "      <th>...</th>\n",
       "      <th>Calories Value</th>\n",
       "      <th>Range Calories Value</th>\n",
       "      <th>Product Type Name</th>\n",
       "      <th>loc_src_layers_group_name</th>\n",
       "      <th>Tonase</th>\n",
       "      <th>Jarak Angkut</th>\n",
       "      <th>Ton Jarak</th>\n",
       "      <th>Satuan</th>\n",
       "      <th>last_updated</th>\n",
       "      <th>Updated_Date</th>\n",
       "    </tr>\n",
       "  </thead>\n",
       "  <tbody>\n",
       "    <tr>\n",
       "      <th>0</th>\n",
       "      <td>2019-01-03</td>\n",
       "      <td>1</td>\n",
       "      <td>2019</td>\n",
       "      <td>Real</td>\n",
       "      <td>JS</td>\n",
       "      <td>None</td>\n",
       "      <td>None</td>\n",
       "      <td>None</td>\n",
       "      <td>Banko Barat</td>\n",
       "      <td>Pit 1</td>\n",
       "      <td>...</td>\n",
       "      <td>None</td>\n",
       "      <td>None</td>\n",
       "      <td>Waste</td>\n",
       "      <td>None</td>\n",
       "      <td>12225.674452</td>\n",
       "      <td>2.141749</td>\n",
       "      <td>26184.322271</td>\n",
       "      <td>Ton</td>\n",
       "      <td>2019-01-31 23:59:59</td>\n",
       "      <td>2024-11-26 09:08:23.470</td>\n",
       "    </tr>\n",
       "    <tr>\n",
       "      <th>1</th>\n",
       "      <td>2019-01-03</td>\n",
       "      <td>1</td>\n",
       "      <td>2019</td>\n",
       "      <td>Real</td>\n",
       "      <td>JS</td>\n",
       "      <td>None</td>\n",
       "      <td>None</td>\n",
       "      <td>None</td>\n",
       "      <td>Banko Barat</td>\n",
       "      <td>Pit 1 Utara</td>\n",
       "      <td>...</td>\n",
       "      <td>None</td>\n",
       "      <td>None</td>\n",
       "      <td>Waste</td>\n",
       "      <td>None</td>\n",
       "      <td>45146.096314</td>\n",
       "      <td>4.283497</td>\n",
       "      <td>96691.592749</td>\n",
       "      <td>Ton</td>\n",
       "      <td>2019-01-31 23:59:59</td>\n",
       "      <td>2024-11-26 09:08:23.470</td>\n",
       "    </tr>\n",
       "    <tr>\n",
       "      <th>2</th>\n",
       "      <td>2019-01-03</td>\n",
       "      <td>1</td>\n",
       "      <td>2019</td>\n",
       "      <td>Real</td>\n",
       "      <td>JS</td>\n",
       "      <td>None</td>\n",
       "      <td>None</td>\n",
       "      <td>None</td>\n",
       "      <td>Banko Barat</td>\n",
       "      <td>Pit 3 Timur</td>\n",
       "      <td>...</td>\n",
       "      <td>None</td>\n",
       "      <td>None</td>\n",
       "      <td>Waste</td>\n",
       "      <td>None</td>\n",
       "      <td>22045.238319</td>\n",
       "      <td>2.141749</td>\n",
       "      <td>47215.360344</td>\n",
       "      <td>Ton</td>\n",
       "      <td>2019-01-31 23:59:59</td>\n",
       "      <td>2024-11-26 09:08:23.500</td>\n",
       "    </tr>\n",
       "    <tr>\n",
       "      <th>3</th>\n",
       "      <td>2019-01-03</td>\n",
       "      <td>1</td>\n",
       "      <td>2019</td>\n",
       "      <td>Real</td>\n",
       "      <td>JS</td>\n",
       "      <td>None</td>\n",
       "      <td>None</td>\n",
       "      <td>None</td>\n",
       "      <td>TAL</td>\n",
       "      <td>TAL Barat</td>\n",
       "      <td>...</td>\n",
       "      <td>5000</td>\n",
       "      <td>None</td>\n",
       "      <td>Mine Brand</td>\n",
       "      <td>None</td>\n",
       "      <td>7041.420972</td>\n",
       "      <td>2.914629</td>\n",
       "      <td>20523.129944</td>\n",
       "      <td>Ton</td>\n",
       "      <td>2019-01-31 23:59:59</td>\n",
       "      <td>2024-11-26 09:08:19.343</td>\n",
       "    </tr>\n",
       "    <tr>\n",
       "      <th>4</th>\n",
       "      <td>2019-01-03</td>\n",
       "      <td>1</td>\n",
       "      <td>2019</td>\n",
       "      <td>Real</td>\n",
       "      <td>JS</td>\n",
       "      <td>None</td>\n",
       "      <td>None</td>\n",
       "      <td>None</td>\n",
       "      <td>TAL</td>\n",
       "      <td>TAL Taman</td>\n",
       "      <td>...</td>\n",
       "      <td>None</td>\n",
       "      <td>None</td>\n",
       "      <td>Waste</td>\n",
       "      <td>None</td>\n",
       "      <td>12478.056137</td>\n",
       "      <td>4.283497</td>\n",
       "      <td>26724.860416</td>\n",
       "      <td>Ton</td>\n",
       "      <td>2019-01-31 23:59:59</td>\n",
       "      <td>2024-11-26 09:08:23.500</td>\n",
       "    </tr>\n",
       "    <tr>\n",
       "      <th>...</th>\n",
       "      <td>...</td>\n",
       "      <td>...</td>\n",
       "      <td>...</td>\n",
       "      <td>...</td>\n",
       "      <td>...</td>\n",
       "      <td>...</td>\n",
       "      <td>...</td>\n",
       "      <td>...</td>\n",
       "      <td>...</td>\n",
       "      <td>...</td>\n",
       "      <td>...</td>\n",
       "      <td>...</td>\n",
       "      <td>...</td>\n",
       "      <td>...</td>\n",
       "      <td>...</td>\n",
       "      <td>...</td>\n",
       "      <td>...</td>\n",
       "      <td>...</td>\n",
       "      <td>...</td>\n",
       "      <td>...</td>\n",
       "      <td>...</td>\n",
       "    </tr>\n",
       "    <tr>\n",
       "      <th>254058</th>\n",
       "      <td>2019-07-03</td>\n",
       "      <td>7</td>\n",
       "      <td>2019</td>\n",
       "      <td>Plan</td>\n",
       "      <td>RKAP</td>\n",
       "      <td>None</td>\n",
       "      <td>None</td>\n",
       "      <td>None</td>\n",
       "      <td>TAL</td>\n",
       "      <td>TAL TSBC-Townsite</td>\n",
       "      <td>...</td>\n",
       "      <td>None</td>\n",
       "      <td>None</td>\n",
       "      <td>Waste</td>\n",
       "      <td>None</td>\n",
       "      <td>43709.677419</td>\n",
       "      <td>3.100000</td>\n",
       "      <td>135500.000000</td>\n",
       "      <td>Ton</td>\n",
       "      <td>2019-07-31 23:59:59</td>\n",
       "      <td>2024-11-26 09:08:26.267</td>\n",
       "    </tr>\n",
       "    <tr>\n",
       "      <th>254059</th>\n",
       "      <td>2020-07-24</td>\n",
       "      <td>7</td>\n",
       "      <td>2020</td>\n",
       "      <td>Plan</td>\n",
       "      <td>RKAP</td>\n",
       "      <td>None</td>\n",
       "      <td>None</td>\n",
       "      <td>None</td>\n",
       "      <td>Banko Barat</td>\n",
       "      <td>Pit 1 Utara</td>\n",
       "      <td>...</td>\n",
       "      <td>5100</td>\n",
       "      <td>None</td>\n",
       "      <td>Mine Brand</td>\n",
       "      <td>None</td>\n",
       "      <td>806.451613</td>\n",
       "      <td>2.400000</td>\n",
       "      <td>1935.483871</td>\n",
       "      <td>Ton</td>\n",
       "      <td>2020-07-31 23:59:59</td>\n",
       "      <td>2024-11-26 09:08:25.110</td>\n",
       "    </tr>\n",
       "    <tr>\n",
       "      <th>254060</th>\n",
       "      <td>2021-09-20</td>\n",
       "      <td>9</td>\n",
       "      <td>2021</td>\n",
       "      <td>Plan</td>\n",
       "      <td>Usuai</td>\n",
       "      <td>None</td>\n",
       "      <td>None</td>\n",
       "      <td>None</td>\n",
       "      <td>TAL</td>\n",
       "      <td>TAL-TSBC</td>\n",
       "      <td>...</td>\n",
       "      <td>None</td>\n",
       "      <td>None</td>\n",
       "      <td>Waste</td>\n",
       "      <td>None</td>\n",
       "      <td>35500.000000</td>\n",
       "      <td>3.750000</td>\n",
       "      <td>133125.000000</td>\n",
       "      <td>Ton</td>\n",
       "      <td>2021-09-30 23:59:59</td>\n",
       "      <td>2024-11-26 09:08:26.860</td>\n",
       "    </tr>\n",
       "    <tr>\n",
       "      <th>254061</th>\n",
       "      <td>2023-11-21</td>\n",
       "      <td>11</td>\n",
       "      <td>2023</td>\n",
       "      <td>Plan</td>\n",
       "      <td>RKAP</td>\n",
       "      <td>PT PAMA PERSADA NUSANTARA</td>\n",
       "      <td>BT-B Pit SJS</td>\n",
       "      <td>PT PAMA PERSADA NUSANTARA</td>\n",
       "      <td>Banko Tengah</td>\n",
       "      <td>BT-B Pit SJS</td>\n",
       "      <td>...</td>\n",
       "      <td>4500</td>\n",
       "      <td>None</td>\n",
       "      <td>Mine Brand</td>\n",
       "      <td>IUP Banko Tengah Blok A</td>\n",
       "      <td>4866.666667</td>\n",
       "      <td>3.000000</td>\n",
       "      <td>14600.000000</td>\n",
       "      <td>Ton</td>\n",
       "      <td>2023-11-30 23:59:59</td>\n",
       "      <td>2024-11-26 09:12:23.827</td>\n",
       "    </tr>\n",
       "    <tr>\n",
       "      <th>254062</th>\n",
       "      <td>2023-11-08</td>\n",
       "      <td>11</td>\n",
       "      <td>2023</td>\n",
       "      <td>Plan</td>\n",
       "      <td>RKAP</td>\n",
       "      <td>PT PAMA PERSADA NUSANTARA</td>\n",
       "      <td>TSBC</td>\n",
       "      <td>PT PAMA PERSADA NUSANTARA</td>\n",
       "      <td>TAL</td>\n",
       "      <td>TAL-TSBC</td>\n",
       "      <td>...</td>\n",
       "      <td>None</td>\n",
       "      <td>None</td>\n",
       "      <td>Waste</td>\n",
       "      <td>IUP Tambang Air Laya</td>\n",
       "      <td>73333.333333</td>\n",
       "      <td>3.600000</td>\n",
       "      <td>264000.000000</td>\n",
       "      <td>Ton</td>\n",
       "      <td>2023-11-30 23:59:59</td>\n",
       "      <td>2024-11-26 09:12:21.407</td>\n",
       "    </tr>\n",
       "  </tbody>\n",
       "</table>\n",
       "<p>254063 rows × 22 columns</p>\n",
       "</div>"
      ],
      "text/plain": [
       "           Tanggal  Bulan  Tahun Jenis   Tipe            Contractor Name  \\\n",
       "0       2019-01-03      1   2019  Real     JS                       None   \n",
       "1       2019-01-03      1   2019  Real     JS                       None   \n",
       "2       2019-01-03      1   2019  Real     JS                       None   \n",
       "3       2019-01-03      1   2019  Real     JS                       None   \n",
       "4       2019-01-03      1   2019  Real     JS                       None   \n",
       "...            ...    ...    ...   ...    ...                        ...   \n",
       "254058  2019-07-03      7   2019  Plan   RKAP                       None   \n",
       "254059  2020-07-24      7   2020  Plan   RKAP                       None   \n",
       "254060  2021-09-20      9   2021  Plan  Usuai                       None   \n",
       "254061  2023-11-21     11   2023  Plan   RKAP  PT PAMA PERSADA NUSANTARA   \n",
       "254062  2023-11-08     11   2023  Plan   RKAP  PT PAMA PERSADA NUSANTARA   \n",
       "\n",
       "                Area                Desc 2 Name Loc Src Area Name  \\\n",
       "0               None                       None       Banko Barat   \n",
       "1               None                       None       Banko Barat   \n",
       "2               None                       None       Banko Barat   \n",
       "3               None                       None               TAL   \n",
       "4               None                       None               TAL   \n",
       "...              ...                        ...               ...   \n",
       "254058          None                       None               TAL   \n",
       "254059          None                       None       Banko Barat   \n",
       "254060          None                       None               TAL   \n",
       "254061  BT-B Pit SJS  PT PAMA PERSADA NUSANTARA      Banko Tengah   \n",
       "254062          TSBC  PT PAMA PERSADA NUSANTARA               TAL   \n",
       "\n",
       "            Loc Src Label  ... Calories Value Range Calories Value  \\\n",
       "0                   Pit 1  ...           None                 None   \n",
       "1             Pit 1 Utara  ...           None                 None   \n",
       "2             Pit 3 Timur  ...           None                 None   \n",
       "3               TAL Barat  ...           5000                 None   \n",
       "4               TAL Taman  ...           None                 None   \n",
       "...                   ...  ...            ...                  ...   \n",
       "254058  TAL TSBC-Townsite  ...           None                 None   \n",
       "254059        Pit 1 Utara  ...           5100                 None   \n",
       "254060           TAL-TSBC  ...           None                 None   \n",
       "254061       BT-B Pit SJS  ...           4500                 None   \n",
       "254062           TAL-TSBC  ...           None                 None   \n",
       "\n",
       "       Product Type Name loc_src_layers_group_name        Tonase Jarak Angkut  \\\n",
       "0                  Waste                      None  12225.674452     2.141749   \n",
       "1                  Waste                      None  45146.096314     4.283497   \n",
       "2                  Waste                      None  22045.238319     2.141749   \n",
       "3             Mine Brand                      None   7041.420972     2.914629   \n",
       "4                  Waste                      None  12478.056137     4.283497   \n",
       "...                  ...                       ...           ...          ...   \n",
       "254058             Waste                      None  43709.677419     3.100000   \n",
       "254059        Mine Brand                      None    806.451613     2.400000   \n",
       "254060             Waste                      None  35500.000000     3.750000   \n",
       "254061        Mine Brand   IUP Banko Tengah Blok A   4866.666667     3.000000   \n",
       "254062             Waste      IUP Tambang Air Laya  73333.333333     3.600000   \n",
       "\n",
       "            Ton Jarak  Satuan        last_updated            Updated_Date  \n",
       "0        26184.322271     Ton 2019-01-31 23:59:59 2024-11-26 09:08:23.470  \n",
       "1        96691.592749     Ton 2019-01-31 23:59:59 2024-11-26 09:08:23.470  \n",
       "2        47215.360344     Ton 2019-01-31 23:59:59 2024-11-26 09:08:23.500  \n",
       "3        20523.129944     Ton 2019-01-31 23:59:59 2024-11-26 09:08:19.343  \n",
       "4        26724.860416     Ton 2019-01-31 23:59:59 2024-11-26 09:08:23.500  \n",
       "...               ...     ...                 ...                     ...  \n",
       "254058  135500.000000     Ton 2019-07-31 23:59:59 2024-11-26 09:08:26.267  \n",
       "254059    1935.483871     Ton 2020-07-31 23:59:59 2024-11-26 09:08:25.110  \n",
       "254060  133125.000000     Ton 2021-09-30 23:59:59 2024-11-26 09:08:26.860  \n",
       "254061   14600.000000     Ton 2023-11-30 23:59:59 2024-11-26 09:12:23.827  \n",
       "254062  264000.000000     Ton 2023-11-30 23:59:59 2024-11-26 09:12:21.407  \n",
       "\n",
       "[254063 rows x 22 columns]"
      ]
     },
     "execution_count": 3,
     "metadata": {},
     "output_type": "execute_result"
    }
   ],
   "source": [
    "df = pd.read_csv(\"D:/PT Bukit Asam/Document 2024/Script Python/DM_production_transaction_Mine_Operation_202410210833.csv\")\n",
    "df"
   ]
  },
  {
   "cell_type": "code",
   "execution_count": 4,
   "metadata": {},
   "outputs": [],
   "source": [
    "#  Preprocessing untuk mengambil coal dengan product type = Mine Brand dan Market Brand\n",
    "df_temp_coal_real = df[df['Product Type Name'].isin(['Mine Brand','Market Brand'])].copy()"
   ]
  },
  {
   "cell_type": "code",
   "execution_count": 5,
   "metadata": {},
   "outputs": [],
   "source": [
    "# preprocessing, mengambil nilai real tanpa plan (RKAP dan Rakor)\n",
    "df_temp_coal_real = df_temp_coal_real[df_temp_coal_real['Jenis']=='Real']"
   ]
  },
  {
   "cell_type": "code",
   "execution_count": 6,
   "metadata": {},
   "outputs": [],
   "source": [
    "# df produksi untuk all location, jadi per-unit lokasi akan digunakan setelah ini\n",
    "df_all_location = df_temp_coal_real.groupby(['Tanggal'])['Tonase'].sum().reset_index()"
   ]
  },
  {
   "cell_type": "code",
   "execution_count": 7,
   "metadata": {},
   "outputs": [],
   "source": [
    "# Mengubah tipe data tanggal menjadi datetime\n",
    "df_all_location['Tanggal'] = pd.to_datetime(df_all_location['Tanggal'])"
   ]
  },
  {
   "cell_type": "code",
   "execution_count": 8,
   "metadata": {},
   "outputs": [],
   "source": [
    "# Data yang diambil dari tanggl 1 januari 2020 (Sesuai Kesepakatan dengan Pihak PTBA)\n",
    "df_prep_Date = df_all_location[df_all_location['Tanggal'] >= '2020-01-01']\n"
   ]
  },
  {
   "cell_type": "code",
   "execution_count": 9,
   "metadata": {},
   "outputs": [],
   "source": [
    "# reset index berdasrkan tanggal terlama hingga sekarang\n",
    "df_prep_Date_index = df_prep_Date.reset_index().sort_values(by=['Tanggal'])\n"
   ]
  },
  {
   "cell_type": "code",
   "execution_count": 10,
   "metadata": {},
   "outputs": [],
   "source": [
    "# Kolom yang digunakan hanya \"Tanggal dan Tonase\", \n",
    "# dikarenakan tidak ada fitur lain yang berkaitan dengan Tonase maka kolom lain akan diabaikan\n",
    "df_prep_Date_index = df_prep_Date_index[['Tanggal','Tonase']]"
   ]
  },
  {
   "cell_type": "code",
   "execution_count": 11,
   "metadata": {},
   "outputs": [],
   "source": [
    "# Tidak Menyertakan Nilai 0 Dan null\n",
    "temp_df_coal_all_area =  df_prep_Date_index[df_prep_Date_index['Tonase'] != 0].reset_index(drop=True).sort_values(by = ['Tanggal'])"
   ]
  },
  {
   "cell_type": "code",
   "execution_count": 12,
   "metadata": {},
   "outputs": [],
   "source": [
    "# memastikan data <= tanggal hari ini\n",
    "coal_all_area = temp_df_coal_all_area[temp_df_coal_all_area['Tanggal'] <= pd.to_datetime('today')]"
   ]
  },
  {
   "cell_type": "code",
   "execution_count": 13,
   "metadata": {},
   "outputs": [],
   "source": [
    "# Uji coba Prophet mengubah nama kolom, menyesuaikan dengan model Prophet\n",
    "coal_all_area.columns=['ds','y']"
   ]
  },
  {
   "cell_type": "code",
   "execution_count": 14,
   "metadata": {},
   "outputs": [
    {
     "name": "stderr",
     "output_type": "stream",
     "text": [
      "09:59:57 - cmdstanpy - INFO - Chain [1] start processing\n",
      "09:59:58 - cmdstanpy - INFO - Chain [1] done processing\n"
     ]
    },
    {
     "name": "stdout",
     "output_type": "stream",
     "text": [
      "PRODUCTION ALL AREA\n",
      "SMAPE dengan changepoint_prior_scale=0.01, seasonality_prior_scale=0.5, n_changepoints=50, seasonality_mode=multiplicative: 19.55%\n"
     ]
    },
    {
     "name": "stderr",
     "output_type": "stream",
     "text": [
      "09:59:58 - cmdstanpy - INFO - Chain [1] start processing\n",
      "09:59:58 - cmdstanpy - INFO - Chain [1] done processing\n"
     ]
    },
    {
     "name": "stdout",
     "output_type": "stream",
     "text": [
      "PRODUCTION ALL AREA\n",
      "SMAPE dengan changepoint_prior_scale=0.01, seasonality_prior_scale=0.5, n_changepoints=100, seasonality_mode=multiplicative: 19.74%\n"
     ]
    },
    {
     "name": "stderr",
     "output_type": "stream",
     "text": [
      "09:59:59 - cmdstanpy - INFO - Chain [1] start processing\n",
      "09:59:59 - cmdstanpy - INFO - Chain [1] done processing\n"
     ]
    },
    {
     "name": "stdout",
     "output_type": "stream",
     "text": [
      "PRODUCTION ALL AREA\n",
      "SMAPE dengan changepoint_prior_scale=0.01, seasonality_prior_scale=1, n_changepoints=50, seasonality_mode=multiplicative: 19.60%\n"
     ]
    },
    {
     "name": "stderr",
     "output_type": "stream",
     "text": [
      "10:00:00 - cmdstanpy - INFO - Chain [1] start processing\n",
      "10:00:00 - cmdstanpy - INFO - Chain [1] done processing\n"
     ]
    },
    {
     "name": "stdout",
     "output_type": "stream",
     "text": [
      "PRODUCTION ALL AREA\n",
      "SMAPE dengan changepoint_prior_scale=0.01, seasonality_prior_scale=1, n_changepoints=100, seasonality_mode=multiplicative: 19.73%\n"
     ]
    },
    {
     "name": "stderr",
     "output_type": "stream",
     "text": [
      "10:00:00 - cmdstanpy - INFO - Chain [1] start processing\n",
      "10:00:01 - cmdstanpy - INFO - Chain [1] done processing\n"
     ]
    },
    {
     "name": "stdout",
     "output_type": "stream",
     "text": [
      "PRODUCTION ALL AREA\n",
      "SMAPE dengan changepoint_prior_scale=0.05, seasonality_prior_scale=0.5, n_changepoints=50, seasonality_mode=multiplicative: 19.46%\n"
     ]
    },
    {
     "name": "stderr",
     "output_type": "stream",
     "text": [
      "10:00:01 - cmdstanpy - INFO - Chain [1] start processing\n",
      "10:00:02 - cmdstanpy - INFO - Chain [1] done processing\n"
     ]
    },
    {
     "name": "stdout",
     "output_type": "stream",
     "text": [
      "PRODUCTION ALL AREA\n",
      "SMAPE dengan changepoint_prior_scale=0.05, seasonality_prior_scale=0.5, n_changepoints=100, seasonality_mode=multiplicative: 19.26%\n"
     ]
    },
    {
     "name": "stderr",
     "output_type": "stream",
     "text": [
      "10:00:02 - cmdstanpy - INFO - Chain [1] start processing\n",
      "10:00:02 - cmdstanpy - INFO - Chain [1] done processing\n"
     ]
    },
    {
     "name": "stdout",
     "output_type": "stream",
     "text": [
      "PRODUCTION ALL AREA\n",
      "SMAPE dengan changepoint_prior_scale=0.05, seasonality_prior_scale=1, n_changepoints=50, seasonality_mode=multiplicative: 19.20%\n"
     ]
    },
    {
     "name": "stderr",
     "output_type": "stream",
     "text": [
      "10:00:03 - cmdstanpy - INFO - Chain [1] start processing\n",
      "10:00:03 - cmdstanpy - INFO - Chain [1] done processing\n"
     ]
    },
    {
     "name": "stdout",
     "output_type": "stream",
     "text": [
      "PRODUCTION ALL AREA\n",
      "SMAPE dengan changepoint_prior_scale=0.05, seasonality_prior_scale=1, n_changepoints=100, seasonality_mode=multiplicative: 19.42%\n",
      "\n",
      "Parameter terbaik: changepoint_prior_scale=0.05, seasonality_prior_scale=1, n_changepoints=50, seasonality_mode=multiplicative\n",
      "SMAPE terbaik: 19.20%\n"
     ]
    },
    {
     "name": "stderr",
     "output_type": "stream",
     "text": [
      "10:00:04 - cmdstanpy - INFO - Chain [1] start processing\n",
      "10:00:04 - cmdstanpy - INFO - Chain [1] done processing\n",
      "10:00:04 - cmdstanpy - INFO - Chain [1] start processing\n",
      "10:00:04 - cmdstanpy - INFO - Chain [1] done processing\n"
     ]
    }
   ],
   "source": [
    "# Fungsi SMAPE\n",
    "def smape(actual, predicted):\n",
    "    return 100 * np.mean(2 * np.abs(predicted - actual) / (np.abs(predicted) + np.abs(actual)))\n",
    "\n",
    "# Data Preparation (Anda bisa menyesuaikan dengan dataset Anda)\n",
    "train_size = int(0.9 * len(coal_all_area))\n",
    "train_data = coal_all_area[:train_size]\n",
    "test_data = coal_all_area[train_size:]\n",
    "\n",
    "# Parameter tuning grid\n",
    "changepoint_prior_scales = [0.01, 0.05]\n",
    "seasonality_prior_scales = [0.5, 1]\n",
    "n_changepoints = [ 50, 100]\n",
    "seasonality_modes = ['multiplicative']\n",
    "\n",
    "# Kombinasi parameter\n",
    "param_combinations = list(itertools.product(\n",
    "    changepoint_prior_scales,\n",
    "    seasonality_prior_scales,\n",
    "    n_changepoints,\n",
    "    seasonality_modes\n",
    "))\n",
    "\n",
    "# Variabel untuk menyimpan hasil tuning terbaik\n",
    "best_smape = float('inf')\n",
    "best_params = None\n",
    "\n",
    "# Looping untuk setiap kombinasi parameter\n",
    "for changepoint_prior_scale, seasonality_prior_scale, n_changepoints, seasonality_mode in param_combinations:\n",
    "    \n",
    "    # Inisialisasi model Prophet dengan parameter tuning\n",
    "    model = Prophet(\n",
    "        yearly_seasonality=True, \n",
    "        weekly_seasonality=False, \n",
    "        daily_seasonality=True,\n",
    "        seasonality_mode=seasonality_mode,\n",
    "        changepoint_prior_scale=changepoint_prior_scale,\n",
    "        seasonality_prior_scale=seasonality_prior_scale,\n",
    "        growth=\"linear\",\n",
    "        n_changepoints=n_changepoints,\n",
    "        interval_width=0.95\n",
    "    )\n",
    "    \n",
    "    # Menambahkan hari libur dan musiman tambahan jika diperlukan\n",
    "    model.add_country_holidays(country_name='Indonesia')\n",
    "    model.add_seasonality(name='monthly', period=30.5, fourier_order=5)\n",
    "\n",
    "    # Melatih model dengan data train\n",
    "    model.fit(train_data)\n",
    "\n",
    "    # Membuat dataframe masa depan yang mencakup periode data test\n",
    "    future = model.make_future_dataframe(periods=len(test_data), freq='D')\n",
    "\n",
    "    # Melakukan prediksi\n",
    "    forecast = model.predict(future)\n",
    "\n",
    "    # Mengambil prediksi yang sesuai dengan data test\n",
    "    forecast_test = forecast[-len(test_data):]\n",
    "\n",
    "    # Menggabungkan data asli dengan prediksi\n",
    "    test_data.loc[:, 'yhat'] = forecast_test['yhat'].values\n",
    "\n",
    "    # Menghitung SMAPE untuk data test\n",
    "    smape_value = smape(test_data['y'], test_data['yhat'])\n",
    "    \n",
    "    # Output hasil SMAPE\n",
    "    print(\"PRODUCTION ALL AREA\")\n",
    "    print(f\"SMAPE dengan changepoint_prior_scale={changepoint_prior_scale}, \"\n",
    "          f\"seasonality_prior_scale={seasonality_prior_scale}, n_changepoints={n_changepoints}, \"\n",
    "          f\"seasonality_mode={seasonality_mode}: {smape_value:.2f}%\")\n",
    "\n",
    "    # Menyimpan kombinasi parameter terbaik\n",
    "    if smape_value < best_smape:\n",
    "        best_smape = smape_value\n",
    "        best_params = (changepoint_prior_scale, seasonality_prior_scale, n_changepoints, seasonality_mode)\n",
    "\n",
    "# Menampilkan parameter terbaik\n",
    "print(f\"\\nParameter terbaik: changepoint_prior_scale={best_params[0]}, \"\n",
    "      f\"seasonality_prior_scale={best_params[1]}, n_changepoints={best_params[2]}, \"\n",
    "      f\"seasonality_mode={best_params[3]}\")\n",
    "print(f\"SMAPE terbaik: {best_smape:.2f}%\")\n",
    "\n",
    "# Perform cross-validation on the best model\n",
    "best_model = Prophet(\n",
    "    yearly_seasonality=True,\n",
    "    weekly_seasonality=False,\n",
    "    daily_seasonality=True,\n",
    "    seasonality_mode=best_params[3],\n",
    "    changepoint_prior_scale=best_params[0],\n",
    "    seasonality_prior_scale=best_params[1],\n",
    "    growth=\"linear\",\n",
    "    n_changepoints=best_params[2],\n",
    "    interval_width=0.95\n",
    ")\n",
    "best_model.add_country_holidays(country_name='Indonesia')\n",
    "best_model.add_seasonality(name='monthly', period=30.5, fourier_order=5)\n",
    "best_model.fit(train_data)\n",
    "\n",
    "# Latih model dengan seluruh data menggunakan parameter terbaik\n",
    "final_model = Prophet(\n",
    "    yearly_seasonality=True,\n",
    "    weekly_seasonality=False,\n",
    "    daily_seasonality=True,\n",
    "    seasonality_mode=best_params[3],\n",
    "    changepoint_prior_scale=best_params[0],\n",
    "    seasonality_prior_scale=best_params[1],\n",
    "    growth=\"linear\",\n",
    "    n_changepoints=best_params[2],\n",
    "    interval_width=0.95\n",
    ")\n",
    "final_model.add_country_holidays(country_name='Indonesia')\n",
    "final_model.add_seasonality(name='monthly', period=30.5, fourier_order=5)\n",
    "\n",
    "# Melatih model dengan seluruh data\n",
    "final_model.fit(coal_all_area)\n",
    "\n",
    "# Membuat dataframe masa depan untuk 6 bulan ke depan\n",
    "future = final_model.make_future_dataframe(periods=300, freq='d')\n",
    "\n",
    "# Melakukan prediksi\n",
    "forecast_final = final_model.predict(future)\n",
    "\n",
    "# Menampilkan hasil prediksi\n",
    "# print(forecast_final[['ds', 'yhat', 'yhat_lower', 'yhat_upper']])\n",
    "\n",
    "# Menyimpan hasil prediksi ke dalam DataFrame\n",
    "forecast_all_area = forecast_final[['ds', 'yhat']]\n",
    "forecast_all_area.columns = ['Date', 'Forecast']\n"
   ]
  },
  {
   "cell_type": "code",
   "execution_count": 15,
   "metadata": {},
   "outputs": [],
   "source": [
    "# Pastikan kolom 'Date' dalam format datetime\n",
    "forecast_all_area['Date'] = pd.to_datetime(forecast_all_area['Date']).dt.date\n",
    "# Menambahkan data untuk 'Forecast'\n",
    "forecast_rows = pd.DataFrame({\n",
    "    'Tanggal': forecast_all_area['Date'],\n",
    "    'Tonase': forecast_all_area['Forecast'].round(3),\n",
    "    'Jenis': 'Forecast',\n",
    "    'Kategori' : 'Coal',\n",
    "    'Loc Src Area Name' : 'All Area'\n",
    "})\n",
    "\n",
    "df_production_actual = pd.DataFrame({\n",
    "    'Tanggal': pd.to_datetime(coal_all_area['ds']).dt.date,\n",
    "    'Tonase': coal_all_area['y'].round(3),\n",
    "    'Jenis': 'Actual',\n",
    "    'Kategori' : 'Coal',\n",
    "    'Loc Src Area Name' : 'All Area'\n",
    "})\n",
    "current_time = datetime.today().date()\n",
    "best_smape_rounded = round(best_smape, 3)\n",
    "smape_all = pd.DataFrame({\n",
    "    'Tanggal' : current_time,\n",
    "    'Tonase' : [best_smape_rounded],\n",
    "    'Jenis' :['Smape'],\n",
    "    'Kategori' : ['Coal'],\n",
    "    'Loc Src Area Name' : ['All Area']\n",
    "})\n",
    "\n",
    "# Menggabungkan semua DataFrame\n",
    "result_df_production = pd.concat([df_production_actual,forecast_rows, smape_all], ignore_index=True)\n",
    "# result_df_production\n"
   ]
  },
  {
   "cell_type": "code",
   "execution_count": 16,
   "metadata": {},
   "outputs": [],
   "source": [
    "# Filter Lokasi Coal pada MTB\n",
    "df_temp_coal_MTB = df_temp_coal_real[df_temp_coal_real['Loc Src Area Name']=='MTB']"
   ]
  },
  {
   "cell_type": "code",
   "execution_count": 17,
   "metadata": {},
   "outputs": [],
   "source": [
    "# \n",
    "temp_coal_MTB = df_temp_coal_MTB.groupby(['Tanggal'])['Tonase'].sum().reset_index()"
   ]
  },
  {
   "cell_type": "code",
   "execution_count": 18,
   "metadata": {},
   "outputs": [],
   "source": [
    "temp_coal_MTB['Tanggal'] = pd.to_datetime(temp_coal_MTB['Tanggal'])"
   ]
  },
  {
   "cell_type": "code",
   "execution_count": 19,
   "metadata": {},
   "outputs": [],
   "source": [
    "# Data yang diambil dari tanggl 1 januari 2020 (Sesuai Kesepakatan dengan Pihak PTBA)\n",
    "df_prep_Date_MTB = temp_coal_MTB[temp_coal_MTB['Tanggal'] >= '2020-01-01']"
   ]
  },
  {
   "cell_type": "code",
   "execution_count": 20,
   "metadata": {},
   "outputs": [],
   "source": [
    "# reset index\n",
    "df_prep_Date_index_MTB = df_prep_Date_MTB.reset_index().sort_values(by=['Tanggal'])\n",
    "df_prep_Date_index_MTB = df_prep_Date_index_MTB[['Tanggal','Tonase']]"
   ]
  },
  {
   "cell_type": "code",
   "execution_count": 21,
   "metadata": {},
   "outputs": [],
   "source": [
    "# Tidak Menyertakan Nilai 0 Dan null\n",
    "temp_df_coal_MTB =  df_prep_Date_index_MTB[df_prep_Date_index_MTB['Tonase'] != 0].reset_index(drop=True).sort_values(by = ['Tanggal'])\n"
   ]
  },
  {
   "cell_type": "code",
   "execution_count": 22,
   "metadata": {},
   "outputs": [],
   "source": [
    "coal_all_area_MTB = temp_df_coal_MTB[temp_df_coal_MTB['Tanggal'] <= pd.to_datetime('today')]"
   ]
  },
  {
   "cell_type": "code",
   "execution_count": 23,
   "metadata": {},
   "outputs": [],
   "source": [
    "coal_all_area_MTB.columns=['ds','y']"
   ]
  },
  {
   "cell_type": "code",
   "execution_count": 24,
   "metadata": {},
   "outputs": [
    {
     "name": "stderr",
     "output_type": "stream",
     "text": [
      "10:00:05 - cmdstanpy - INFO - Chain [1] start processing\n",
      "10:00:09 - cmdstanpy - INFO - Chain [1] done processing\n"
     ]
    },
    {
     "name": "stdout",
     "output_type": "stream",
     "text": [
      "PRODUCTION COAL MTB\n",
      "SMAPE dengan changepoint_prior_scale=0.1, seasonality_prior_scale=2, n_changepoints=100, seasonality_mode=multiplicative: 19.94%\n"
     ]
    },
    {
     "name": "stderr",
     "output_type": "stream",
     "text": [
      "10:00:09 - cmdstanpy - INFO - Chain [1] start processing\n",
      "10:00:13 - cmdstanpy - INFO - Chain [1] done processing\n"
     ]
    },
    {
     "name": "stdout",
     "output_type": "stream",
     "text": [
      "PRODUCTION COAL MTB\n",
      "SMAPE dengan changepoint_prior_scale=0.1, seasonality_prior_scale=2, n_changepoints=150, seasonality_mode=multiplicative: 19.96%\n"
     ]
    },
    {
     "name": "stderr",
     "output_type": "stream",
     "text": [
      "10:00:14 - cmdstanpy - INFO - Chain [1] start processing\n",
      "10:00:18 - cmdstanpy - INFO - Chain [1] done processing\n"
     ]
    },
    {
     "name": "stdout",
     "output_type": "stream",
     "text": [
      "PRODUCTION COAL MTB\n",
      "SMAPE dengan changepoint_prior_scale=0.1, seasonality_prior_scale=5, n_changepoints=100, seasonality_mode=multiplicative: 19.94%\n"
     ]
    },
    {
     "name": "stderr",
     "output_type": "stream",
     "text": [
      "10:00:18 - cmdstanpy - INFO - Chain [1] start processing\n",
      "10:00:22 - cmdstanpy - INFO - Chain [1] done processing\n"
     ]
    },
    {
     "name": "stdout",
     "output_type": "stream",
     "text": [
      "PRODUCTION COAL MTB\n",
      "SMAPE dengan changepoint_prior_scale=0.1, seasonality_prior_scale=5, n_changepoints=150, seasonality_mode=multiplicative: 20.04%\n"
     ]
    },
    {
     "name": "stderr",
     "output_type": "stream",
     "text": [
      "10:00:23 - cmdstanpy - INFO - Chain [1] start processing\n",
      "10:00:27 - cmdstanpy - INFO - Chain [1] done processing\n"
     ]
    },
    {
     "name": "stdout",
     "output_type": "stream",
     "text": [
      "PRODUCTION COAL MTB\n",
      "SMAPE dengan changepoint_prior_scale=0.2, seasonality_prior_scale=2, n_changepoints=100, seasonality_mode=multiplicative: 19.75%\n"
     ]
    },
    {
     "name": "stderr",
     "output_type": "stream",
     "text": [
      "10:00:28 - cmdstanpy - INFO - Chain [1] start processing\n",
      "10:00:33 - cmdstanpy - INFO - Chain [1] done processing\n"
     ]
    },
    {
     "name": "stdout",
     "output_type": "stream",
     "text": [
      "PRODUCTION COAL MTB\n",
      "SMAPE dengan changepoint_prior_scale=0.2, seasonality_prior_scale=2, n_changepoints=150, seasonality_mode=multiplicative: 19.72%\n"
     ]
    },
    {
     "name": "stderr",
     "output_type": "stream",
     "text": [
      "10:00:34 - cmdstanpy - INFO - Chain [1] start processing\n",
      "10:00:38 - cmdstanpy - INFO - Chain [1] done processing\n"
     ]
    },
    {
     "name": "stdout",
     "output_type": "stream",
     "text": [
      "PRODUCTION COAL MTB\n",
      "SMAPE dengan changepoint_prior_scale=0.2, seasonality_prior_scale=5, n_changepoints=100, seasonality_mode=multiplicative: 19.75%\n"
     ]
    },
    {
     "name": "stderr",
     "output_type": "stream",
     "text": [
      "10:00:38 - cmdstanpy - INFO - Chain [1] start processing\n",
      "10:00:42 - cmdstanpy - INFO - Chain [1] done processing\n"
     ]
    },
    {
     "name": "stdout",
     "output_type": "stream",
     "text": [
      "PRODUCTION COAL MTB\n",
      "SMAPE dengan changepoint_prior_scale=0.2, seasonality_prior_scale=5, n_changepoints=150, seasonality_mode=multiplicative: 19.74%\n",
      "\n",
      "Parameter terbaik: changepoint_prior_scale=0.2, seasonality_prior_scale=2, n_changepoints=150, seasonality_mode=multiplicative\n",
      "SMAPE terbaik: 19.72%\n"
     ]
    },
    {
     "name": "stderr",
     "output_type": "stream",
     "text": [
      "10:00:43 - cmdstanpy - INFO - Chain [1] start processing\n",
      "10:00:48 - cmdstanpy - INFO - Chain [1] done processing\n"
     ]
    }
   ],
   "source": [
    "# Fungsi SMAPE\n",
    "def smape(actual, predicted):\n",
    "    return 100 * np.mean(2 * np.abs(predicted - actual) / (np.abs(predicted) + np.abs(actual)))\n",
    "\n",
    "# Data Preparation (Anda bisa menyesuaikan dengan dataset Anda)\n",
    "train_size = int(0.9 * len(coal_all_area_MTB))\n",
    "train_data = coal_all_area_MTB[:train_size]\n",
    "test_data = coal_all_area_MTB[train_size:]\n",
    "\n",
    "# Parameter tuning grid\n",
    "changepoint_prior_scales = [0.1, 0.2]\n",
    "seasonality_prior_scales = [2,5]\n",
    "n_changepoints = [100, 150]\n",
    "seasonality_modes = ['multiplicative']\n",
    "\n",
    "# Kombinasi parameter\n",
    "param_combinations = list(itertools.product(\n",
    "    changepoint_prior_scales,\n",
    "    seasonality_prior_scales,\n",
    "    n_changepoints,\n",
    "    seasonality_modes\n",
    "))\n",
    "\n",
    "# Variabel untuk menyimpan hasil tuning terbaik\n",
    "best_smape = float('inf')\n",
    "best_params = None\n",
    "\n",
    "# Looping untuk setiap kombinasi parameter\n",
    "for changepoint_prior_scale, seasonality_prior_scale, n_changepoints, seasonality_mode in param_combinations:\n",
    "    \n",
    "    # Inisialisasi model Prophet dengan parameter tuning\n",
    "    model = Prophet(\n",
    "        yearly_seasonality=True, \n",
    "        weekly_seasonality=False, \n",
    "        daily_seasonality=True,\n",
    "        seasonality_mode=seasonality_mode,\n",
    "        changepoint_prior_scale=changepoint_prior_scale,\n",
    "        seasonality_prior_scale=seasonality_prior_scale,\n",
    "        growth=\"linear\",\n",
    "        n_changepoints=n_changepoints,\n",
    "        interval_width=0.95\n",
    "    )\n",
    "    \n",
    "    # Menambahkan hari libur dan musiman tambahan jika diperlukan\n",
    "    model.add_country_holidays(country_name='Indonesia')\n",
    "    model.add_seasonality(name='monthly', period=30.5, fourier_order=5)\n",
    "\n",
    "    # Melatih model dengan data train\n",
    "    model.fit(train_data)\n",
    "\n",
    "    # Membuat dataframe masa depan yang mencakup periode data test\n",
    "    future = model.make_future_dataframe(periods=len(test_data), freq='D')\n",
    "\n",
    "    # Melakukan prediksi\n",
    "    forecast = model.predict(future)\n",
    "\n",
    "    # Mengambil prediksi yang sesuai dengan data test\n",
    "    forecast_test = forecast[-len(test_data):]\n",
    "\n",
    "    # Menggabungkan data asli dengan prediksi\n",
    "    test_data.loc[:, 'yhat'] = forecast_test['yhat'].values\n",
    "\n",
    "    # Menghitung SMAPE untuk data test\n",
    "    smape_value = smape(test_data['y'], test_data['yhat'])\n",
    "    \n",
    "    # Output hasil SMAPE\n",
    "    print(\"PRODUCTION COAL MTB\")\n",
    "    print(f\"SMAPE dengan changepoint_prior_scale={changepoint_prior_scale}, \"\n",
    "          f\"seasonality_prior_scale={seasonality_prior_scale}, n_changepoints={n_changepoints}, \"\n",
    "          f\"seasonality_mode={seasonality_mode}: {smape_value:.2f}%\")\n",
    "\n",
    "    # Menyimpan kombinasi parameter terbaik\n",
    "    if smape_value < best_smape:\n",
    "        best_smape = smape_value\n",
    "        best_params = (changepoint_prior_scale, seasonality_prior_scale, n_changepoints, seasonality_mode)\n",
    "\n",
    "# Menampilkan parameter terbaik\n",
    "print(f\"\\nParameter terbaik: changepoint_prior_scale={best_params[0]}, \"\n",
    "      f\"seasonality_prior_scale={best_params[1]}, n_changepoints={best_params[2]}, \"\n",
    "      f\"seasonality_mode={best_params[3]}\")\n",
    "print(f\"SMAPE terbaik: {best_smape:.2f}%\")\n",
    "\n",
    "# Perform cross-validation on the best model\n",
    "best_model= Prophet(\n",
    "    yearly_seasonality=True,\n",
    "    weekly_seasonality=False,\n",
    "    daily_seasonality=True,\n",
    "    seasonality_mode=best_params[3],\n",
    "    changepoint_prior_scale=best_params[0],\n",
    "    seasonality_prior_scale=best_params[1],\n",
    "    growth=\"linear\",\n",
    "    n_changepoints=best_params[2],\n",
    "    interval_width=0.95\n",
    ")\n",
    "# Latih model dengan seluruh data menggunakan parameter terbaik\n",
    "final_model = Prophet(\n",
    "    yearly_seasonality=True,\n",
    "    weekly_seasonality=False,\n",
    "    daily_seasonality=True,\n",
    "    seasonality_mode=best_params[3],\n",
    "    changepoint_prior_scale=best_params[0],\n",
    "    seasonality_prior_scale=best_params[1],\n",
    "    growth=\"linear\",\n",
    "    n_changepoints=best_params[2],\n",
    "    interval_width=0.95\n",
    ")\n",
    "final_model.add_country_holidays(country_name='Indonesia')\n",
    "final_model.add_seasonality(name='monthly', period=30.5, fourier_order=5)\n",
    "\n",
    "# Melatih model dengan seluruh data\n",
    "final_model.fit(coal_all_area_MTB)\n",
    "\n",
    "# Membuat dataframe masa depan untuk 6 bulan ke depan\n",
    "future = final_model.make_future_dataframe(periods=300, freq='d')\n",
    "\n",
    "# Melakukan prediksi\n",
    "forecast_final = final_model.predict(future)\n",
    "\n",
    "# Menyimpan hasil prediksi ke dalam DataFrame\n",
    "forecast_all_area_MTB= forecast_final[['ds', 'yhat']]\n",
    "forecast_all_area_MTB.columns = ['Date', 'Forecast']\n"
   ]
  },
  {
   "cell_type": "code",
   "execution_count": 25,
   "metadata": {},
   "outputs": [],
   "source": [
    "# Pastikan kolom 'Date' dalam format datetime\n",
    "forecast_all_area_MTB['Date'] = pd.to_datetime(forecast_all_area_MTB['Date']).dt.date\n",
    "# Menambahkan data untuk 'Forecast'\n",
    "forecast_rows = pd.DataFrame({\n",
    "    'Tanggal': forecast_all_area_MTB['Date'],\n",
    "    'Tonase' :  forecast_all_area_MTB['Forecast'].round(3),\n",
    "    'Jenis': 'Forecast',\n",
    "    'Kategori' : 'Coal',\n",
    "    'Loc Src Area Name' : 'MTB'\n",
    "})\n",
    "\n",
    "df_production_actual_MTB = pd.DataFrame({\n",
    "    'Tanggal': pd.to_datetime(coal_all_area_MTB['ds']).dt.date,\n",
    "    'Tonase': coal_all_area_MTB['y'].round(3),\n",
    "    'Jenis': 'Actual',\n",
    "    'Kategori' : 'Coal',\n",
    "    'Loc Src Area Name' : 'MTB'\n",
    "})\n",
    "current_time = datetime.today().date()\n",
    "best_smape_rounded = round(best_smape, 3)\n",
    "smape_MTB = pd.DataFrame({\n",
    "    'Tanggal' : current_time,\n",
    "    'Tonase' : [best_smape_rounded],\n",
    "    'Jenis' :['Smape'],\n",
    "    'Kategori' : ['Coal'],\n",
    "    'Loc Src Area Name' : ['MTB']\n",
    "})\n",
    "# Menggabungkan semua DataFrame\n",
    "result_df_MTB = pd.concat([df_production_actual_MTB,forecast_rows,smape_MTB], ignore_index=True)\n",
    "# result_df_MTB"
   ]
  },
  {
   "cell_type": "markdown",
   "metadata": {},
   "source": [
    "---"
   ]
  },
  {
   "cell_type": "code",
   "execution_count": 26,
   "metadata": {},
   "outputs": [],
   "source": [
    "# MTB\n",
    "df_temp_coal_TAL = df_temp_coal_real[df_temp_coal_real['Loc Src Area Name']=='TAL']\n"
   ]
  },
  {
   "cell_type": "code",
   "execution_count": 27,
   "metadata": {},
   "outputs": [],
   "source": [
    "temp_coal_TAL = df_temp_coal_TAL.groupby(['Tanggal'])['Tonase'].sum().reset_index()"
   ]
  },
  {
   "cell_type": "code",
   "execution_count": 28,
   "metadata": {},
   "outputs": [],
   "source": [
    "temp_coal_TAL['Tanggal'] = pd.to_datetime(temp_coal_TAL['Tanggal'])"
   ]
  },
  {
   "cell_type": "code",
   "execution_count": 29,
   "metadata": {},
   "outputs": [],
   "source": [
    "# Data yang diambil dari tanggl 1 januari 2020 (Sesuai Kesepakatan dengan Pihak PTBA)\n",
    "df_prep_Date_TAL = temp_coal_TAL[temp_coal_TAL['Tanggal'] >= '2020-01-01']"
   ]
  },
  {
   "cell_type": "code",
   "execution_count": 30,
   "metadata": {},
   "outputs": [],
   "source": [
    "# reset index\n",
    "df_prep_Date_index_TAL = df_prep_Date_TAL.reset_index().sort_values(by=['Tanggal'])\n",
    "df_prep_Date_index_TAL = df_prep_Date_index_TAL[['Tanggal','Tonase']]"
   ]
  },
  {
   "cell_type": "code",
   "execution_count": 31,
   "metadata": {},
   "outputs": [],
   "source": [
    "# Tidak Menyertakan Nilai 0 Dan null\n",
    "temp_df_coal_TAL =  df_prep_Date_index_TAL[df_prep_Date_index_TAL['Tonase'] != 0].reset_index(drop=True).sort_values(by = ['Tanggal'])"
   ]
  },
  {
   "cell_type": "code",
   "execution_count": 32,
   "metadata": {},
   "outputs": [],
   "source": [
    "coal_all_area_TAL = temp_df_coal_TAL[temp_df_coal_TAL['Tanggal'] <= pd.to_datetime('today')]"
   ]
  },
  {
   "cell_type": "code",
   "execution_count": 33,
   "metadata": {},
   "outputs": [],
   "source": [
    "coal_all_area_TAL.columns=['ds','y']"
   ]
  },
  {
   "cell_type": "code",
   "execution_count": 34,
   "metadata": {},
   "outputs": [
    {
     "name": "stderr",
     "output_type": "stream",
     "text": [
      "10:00:49 - cmdstanpy - INFO - Chain [1] start processing\n",
      "10:00:49 - cmdstanpy - INFO - Chain [1] done processing\n"
     ]
    },
    {
     "name": "stdout",
     "output_type": "stream",
     "text": [
      "PRODUCTION COAL TAL\n",
      "SMAPE dengan changepoint_prior_scale=0.1, seasonality_prior_scale=0.5, n_changepoints=50, seasonality_mode=multiplicative: 21.58%\n"
     ]
    },
    {
     "name": "stderr",
     "output_type": "stream",
     "text": [
      "10:00:50 - cmdstanpy - INFO - Chain [1] start processing\n",
      "10:00:50 - cmdstanpy - INFO - Chain [1] done processing\n"
     ]
    },
    {
     "name": "stdout",
     "output_type": "stream",
     "text": [
      "PRODUCTION COAL TAL\n",
      "SMAPE dengan changepoint_prior_scale=0.1, seasonality_prior_scale=0.5, n_changepoints=100, seasonality_mode=multiplicative: 21.58%\n"
     ]
    },
    {
     "name": "stderr",
     "output_type": "stream",
     "text": [
      "10:00:50 - cmdstanpy - INFO - Chain [1] start processing\n",
      "10:00:50 - cmdstanpy - INFO - Chain [1] done processing\n"
     ]
    },
    {
     "name": "stdout",
     "output_type": "stream",
     "text": [
      "PRODUCTION COAL TAL\n",
      "SMAPE dengan changepoint_prior_scale=0.1, seasonality_prior_scale=1, n_changepoints=50, seasonality_mode=multiplicative: 21.58%\n"
     ]
    },
    {
     "name": "stderr",
     "output_type": "stream",
     "text": [
      "10:00:51 - cmdstanpy - INFO - Chain [1] start processing\n",
      "10:00:51 - cmdstanpy - INFO - Chain [1] done processing\n"
     ]
    },
    {
     "name": "stdout",
     "output_type": "stream",
     "text": [
      "PRODUCTION COAL TAL\n",
      "SMAPE dengan changepoint_prior_scale=0.1, seasonality_prior_scale=1, n_changepoints=100, seasonality_mode=multiplicative: 21.58%\n"
     ]
    },
    {
     "name": "stderr",
     "output_type": "stream",
     "text": [
      "10:00:52 - cmdstanpy - INFO - Chain [1] start processing\n",
      "10:00:52 - cmdstanpy - INFO - Chain [1] done processing\n"
     ]
    },
    {
     "name": "stdout",
     "output_type": "stream",
     "text": [
      "PRODUCTION COAL TAL\n",
      "SMAPE dengan changepoint_prior_scale=0.2, seasonality_prior_scale=0.5, n_changepoints=50, seasonality_mode=multiplicative: 21.58%\n"
     ]
    },
    {
     "name": "stderr",
     "output_type": "stream",
     "text": [
      "10:00:52 - cmdstanpy - INFO - Chain [1] start processing\n",
      "10:00:52 - cmdstanpy - INFO - Chain [1] done processing\n"
     ]
    },
    {
     "name": "stdout",
     "output_type": "stream",
     "text": [
      "PRODUCTION COAL TAL\n",
      "SMAPE dengan changepoint_prior_scale=0.2, seasonality_prior_scale=0.5, n_changepoints=100, seasonality_mode=multiplicative: 21.58%\n"
     ]
    },
    {
     "name": "stderr",
     "output_type": "stream",
     "text": [
      "10:00:53 - cmdstanpy - INFO - Chain [1] start processing\n",
      "10:00:53 - cmdstanpy - INFO - Chain [1] done processing\n"
     ]
    },
    {
     "name": "stdout",
     "output_type": "stream",
     "text": [
      "PRODUCTION COAL TAL\n",
      "SMAPE dengan changepoint_prior_scale=0.2, seasonality_prior_scale=1, n_changepoints=50, seasonality_mode=multiplicative: 21.58%\n"
     ]
    },
    {
     "name": "stderr",
     "output_type": "stream",
     "text": [
      "10:00:53 - cmdstanpy - INFO - Chain [1] start processing\n",
      "10:00:54 - cmdstanpy - INFO - Chain [1] done processing\n"
     ]
    },
    {
     "name": "stdout",
     "output_type": "stream",
     "text": [
      "PRODUCTION COAL TAL\n",
      "SMAPE dengan changepoint_prior_scale=0.2, seasonality_prior_scale=1, n_changepoints=100, seasonality_mode=multiplicative: 21.58%\n",
      "\n",
      "Parameter terbaik: changepoint_prior_scale=0.1, seasonality_prior_scale=0.5, n_changepoints=100, seasonality_mode=multiplicative\n",
      "SMAPE terbaik: 21.58%\n"
     ]
    },
    {
     "name": "stderr",
     "output_type": "stream",
     "text": [
      "10:00:54 - cmdstanpy - INFO - Chain [1] start processing\n",
      "10:00:54 - cmdstanpy - INFO - Chain [1] done processing\n",
      "10:00:55 - cmdstanpy - INFO - Chain [1] start processing\n",
      "10:00:55 - cmdstanpy - INFO - Chain [1] done processing\n"
     ]
    }
   ],
   "source": [
    "# Fungsi SMAPE\n",
    "def smape(actual, predicted):\n",
    "    return 100 * np.mean(2 * np.abs(predicted - actual) / (np.abs(predicted) + np.abs(actual)))\n",
    "\n",
    "# Data Preparation (Anda bisa menyesuaikan dengan dataset Anda)\n",
    "train_size = int(0.9 * len(coal_all_area_TAL))\n",
    "train_data = coal_all_area_TAL[:train_size]\n",
    "test_data = coal_all_area_TAL[train_size:]\n",
    "\n",
    "# Parameter tuning grid\n",
    "changepoint_prior_scales = [ 0.1, 0.2]\n",
    "seasonality_prior_scales = [0.5, 1]\n",
    "n_changepoints = [ 50, 100]\n",
    "seasonality_modes = ['multiplicative']\n",
    "\n",
    "# Kombinasi parameter\n",
    "param_combinations = list(itertools.product(\n",
    "    changepoint_prior_scales,\n",
    "    seasonality_prior_scales,\n",
    "    n_changepoints,\n",
    "    seasonality_modes\n",
    "))\n",
    "\n",
    "# Variabel untuk menyimpan hasil tuning terbaik\n",
    "best_smape = float('inf')\n",
    "best_params = None\n",
    "\n",
    "# Looping untuk setiap kombinasi parameter\n",
    "for changepoint_prior_scale, seasonality_prior_scale, n_changepoints, seasonality_mode in param_combinations:\n",
    "    \n",
    "    # Inisialisasi model Prophet dengan parameter tuning\n",
    "    model = Prophet(\n",
    "        yearly_seasonality=True, \n",
    "        weekly_seasonality=True, \n",
    "        daily_seasonality=True,\n",
    "        seasonality_mode=seasonality_mode,\n",
    "        changepoint_prior_scale=changepoint_prior_scale,\n",
    "        seasonality_prior_scale=seasonality_prior_scale,\n",
    "        growth=\"flat\",\n",
    "        n_changepoints=n_changepoints,\n",
    "        interval_width=0.95\n",
    "\n",
    "    )\n",
    "    \n",
    "    # Menambahkan hari libur dan musiman tambahan jika diperlukan\n",
    "    model.add_country_holidays(country_name='Indonesia')\n",
    "    model.add_seasonality(name='monthly', period=30.5, fourier_order=5)\n",
    "\n",
    "    # Melatih model dengan data train\n",
    "    model.fit(train_data)\n",
    "\n",
    "    # Membuat dataframe masa depan yang mencakup periode data test\n",
    "    future = model.make_future_dataframe(periods=len(test_data), freq='D')\n",
    "\n",
    "    # Melakukan prediksi\n",
    "    forecast = model.predict(future)\n",
    "\n",
    "    # Mengambil prediksi yang sesuai dengan data test\n",
    "    forecast_test = forecast[-len(test_data):]\n",
    "\n",
    "    # Menggabungkan data asli dengan prediksi\n",
    "    test_data.loc[:, 'yhat'] = forecast_test['yhat'].values\n",
    "\n",
    "    # Menghitung SMAPE untuk data test\n",
    "    smape_value = smape(test_data['y'], test_data['yhat'])\n",
    "    \n",
    "    # Output hasil SMAPE\n",
    "    print(\"PRODUCTION COAL TAL\")\n",
    "    print(f\"SMAPE dengan changepoint_prior_scale={changepoint_prior_scale}, \"\n",
    "          f\"seasonality_prior_scale={seasonality_prior_scale}, n_changepoints={n_changepoints}, \"\n",
    "          f\"seasonality_mode={seasonality_mode}: {smape_value:.2f}%\")\n",
    "\n",
    "    # Menyimpan kombinasi parameter terbaik\n",
    "    if smape_value < best_smape:\n",
    "        best_smape = smape_value\n",
    "        best_params = (changepoint_prior_scale, seasonality_prior_scale, n_changepoints, seasonality_mode)\n",
    "\n",
    "# Menampilkan parameter terbaik\n",
    "print(f\"\\nParameter terbaik: changepoint_prior_scale={best_params[0]}, \"\n",
    "      f\"seasonality_prior_scale={best_params[1]}, n_changepoints={best_params[2]}, \"\n",
    "      f\"seasonality_mode={best_params[3]}\")\n",
    "print(f\"SMAPE terbaik: {best_smape:.2f}%\")\n",
    "\n",
    "# Perform cross-validation on the best model\n",
    "best_model = Prophet(\n",
    "    yearly_seasonality=True,\n",
    "    weekly_seasonality=False,\n",
    "    daily_seasonality=True,\n",
    "    seasonality_mode=best_params[3],\n",
    "    changepoint_prior_scale=best_params[0],\n",
    "    seasonality_prior_scale=best_params[1],\n",
    "    growth=\"flat\",\n",
    "    n_changepoints=best_params[2],\n",
    "    interval_width=0.95\n",
    ")\n",
    "best_model.add_country_holidays(country_name='Indonesia')\n",
    "best_model.add_seasonality(name='monthly', period=30.5, fourier_order=5)\n",
    "best_model.fit(train_data)\n",
    "\n",
    "# Latih model dengan seluruh data menggunakan parameter terbaik\n",
    "final_model = Prophet(\n",
    "    yearly_seasonality=True,\n",
    "    weekly_seasonality=True,\n",
    "    daily_seasonality=True,\n",
    "    seasonality_mode=best_params[3],\n",
    "    changepoint_prior_scale=best_params[0],\n",
    "    seasonality_prior_scale=best_params[1],\n",
    "    growth=\"flat\",\n",
    "    n_changepoints=best_params[2],\n",
    "    interval_width=0.95\n",
    ")\n",
    "final_model.add_country_holidays(country_name='Indonesia')\n",
    "final_model.add_seasonality(name='monthly', period=30.5, fourier_order=5)\n",
    "\n",
    "# Melatih model dengan seluruh data\n",
    "final_model.fit(coal_all_area_TAL)\n",
    "\n",
    "# Membuat dataframe masa depan untuk 6 bulan ke depan\n",
    "future = final_model.make_future_dataframe(periods=300, freq='d')\n",
    "\n",
    "# Melakukan prediksi\n",
    "forecast_final = final_model.predict(future)\n",
    "\n",
    "# Menampilkan hasil prediksi\n",
    "# print(forecast_final[['ds', 'yhat', 'yhat_lower', 'yhat_upper']])\n",
    "\n",
    "# Menyimpan hasil prediksi ke dalam DataFrame\n",
    "forecast_all_area_TAL= forecast_final[['ds', 'yhat']]\n",
    "forecast_all_area_TAL.columns = ['Date', 'Forecast']\n"
   ]
  },
  {
   "cell_type": "code",
   "execution_count": 35,
   "metadata": {},
   "outputs": [],
   "source": [
    "# Pastikan kolom 'Date' dalam format datetime\n",
    "forecast_all_area_TAL['Date'] = pd.to_datetime(forecast_all_area_TAL['Date']).dt.date\n",
    "# Menambahkan data untuk 'Forecast'\n",
    "forecast_rows = pd.DataFrame({\n",
    "    'Tanggal': forecast_all_area_TAL['Date'],\n",
    "    'Tonase': forecast_all_area_TAL['Forecast'].round(3),\n",
    "    'Jenis': 'Forecast',\n",
    "    'Kategori' : 'Coal',\n",
    "    'Loc Src Area Name' : 'TAL'\n",
    "})\n",
    "\n",
    "df_production_actual_TAL = pd.DataFrame({\n",
    "    'Tanggal': pd.to_datetime(coal_all_area_TAL['ds']).dt.date,\n",
    "    'Tonase': coal_all_area_TAL['y'].round(3),\n",
    "    'Jenis': 'Actual',\n",
    "    'Kategori' : 'Coal',\n",
    "    'Loc Src Area Name' : 'TAL'\n",
    "})\n",
    "current_time = datetime.today().date()\n",
    "best_smape_rounded = round(best_smape, 3)\n",
    "smape_TAL = pd.DataFrame({\n",
    "    'Tanggal' : current_time,\n",
    "    'Tonase' : [best_smape_rounded],\n",
    "    'Jenis' :['Smape'],\n",
    "    'Kategori' : ['Coal'],\n",
    "    'Loc Src Area Name' : ['TAL']\n",
    "})\n",
    "\n",
    "# Menggabungkan semua DataFrame\n",
    "result_df_TAL = pd.concat([df_production_actual_TAL,forecast_rows, smape_TAL], ignore_index=True)\n",
    "# result_df_TAL"
   ]
  },
  {
   "cell_type": "code",
   "execution_count": 36,
   "metadata": {},
   "outputs": [],
   "source": [
    "# Banko Barat\n",
    "df_temp_coal_BB = df_temp_coal_real[df_temp_coal_real['Loc Src Area Name']=='Banko Barat']"
   ]
  },
  {
   "cell_type": "code",
   "execution_count": 37,
   "metadata": {},
   "outputs": [],
   "source": [
    "df_temp_coal_BB = df_temp_coal_BB.groupby(['Tanggal'])['Tonase'].sum().reset_index()"
   ]
  },
  {
   "cell_type": "code",
   "execution_count": 38,
   "metadata": {},
   "outputs": [],
   "source": [
    "df_temp_coal_BB['Tanggal'] = pd.to_datetime(df_temp_coal_BB['Tanggal'])"
   ]
  },
  {
   "cell_type": "code",
   "execution_count": 39,
   "metadata": {},
   "outputs": [],
   "source": [
    "# Data yang diambil dari tanggl 1 januari 2020 (Sesuai Kesepakatan dengan Pihak PTBA)\n",
    "df_prep_Date_BB = df_temp_coal_BB[df_temp_coal_BB['Tanggal'] >= '2020-01-01']"
   ]
  },
  {
   "cell_type": "code",
   "execution_count": 40,
   "metadata": {},
   "outputs": [],
   "source": [
    "# reset index\n",
    "df_prep_Date_index_BB = df_prep_Date_BB.reset_index().sort_values(by=['Tanggal'])\n",
    "df_prep_Date_index_BB = df_prep_Date_index_BB[['Tanggal','Tonase']]\n"
   ]
  },
  {
   "cell_type": "code",
   "execution_count": 41,
   "metadata": {},
   "outputs": [],
   "source": [
    "# Tidak Menyertakan Nilai 0 Dan null\n",
    "temp_df_coal_BB =  df_prep_Date_index_BB[df_prep_Date_index_BB['Tonase'] != 0].reset_index(drop=True).sort_values(by = ['Tanggal'])"
   ]
  },
  {
   "cell_type": "code",
   "execution_count": 42,
   "metadata": {},
   "outputs": [],
   "source": [
    "coal_all_area_BB = temp_df_coal_BB[temp_df_coal_BB['Tanggal'] <= pd.to_datetime('today')]"
   ]
  },
  {
   "cell_type": "code",
   "execution_count": 43,
   "metadata": {},
   "outputs": [],
   "source": [
    "coal_all_area_BB.columns=['ds','y']"
   ]
  },
  {
   "cell_type": "code",
   "execution_count": 44,
   "metadata": {},
   "outputs": [
    {
     "name": "stderr",
     "output_type": "stream",
     "text": [
      "10:00:55 - cmdstanpy - INFO - Chain [1] start processing\n",
      "10:00:59 - cmdstanpy - INFO - Chain [1] done processing\n"
     ]
    },
    {
     "name": "stdout",
     "output_type": "stream",
     "text": [
      "SMAPE dengan changepoint_prior_scale=0.2, seasonality_prior_scale=0.5, n_changepoints=100, seasonality_mode=multiplicative: 32.90%\n"
     ]
    },
    {
     "name": "stderr",
     "output_type": "stream",
     "text": [
      "10:01:00 - cmdstanpy - INFO - Chain [1] start processing\n",
      "10:01:04 - cmdstanpy - INFO - Chain [1] done processing\n"
     ]
    },
    {
     "name": "stdout",
     "output_type": "stream",
     "text": [
      "SMAPE dengan changepoint_prior_scale=0.2, seasonality_prior_scale=0.5, n_changepoints=150, seasonality_mode=multiplicative: 30.16%\n"
     ]
    },
    {
     "name": "stderr",
     "output_type": "stream",
     "text": [
      "10:01:05 - cmdstanpy - INFO - Chain [1] start processing\n",
      "10:01:08 - cmdstanpy - INFO - Chain [1] done processing\n"
     ]
    },
    {
     "name": "stdout",
     "output_type": "stream",
     "text": [
      "SMAPE dengan changepoint_prior_scale=0.2, seasonality_prior_scale=1, n_changepoints=100, seasonality_mode=multiplicative: 36.53%\n"
     ]
    },
    {
     "name": "stderr",
     "output_type": "stream",
     "text": [
      "10:01:09 - cmdstanpy - INFO - Chain [1] start processing\n",
      "10:01:13 - cmdstanpy - INFO - Chain [1] done processing\n"
     ]
    },
    {
     "name": "stdout",
     "output_type": "stream",
     "text": [
      "SMAPE dengan changepoint_prior_scale=0.2, seasonality_prior_scale=1, n_changepoints=150, seasonality_mode=multiplicative: 36.69%\n"
     ]
    },
    {
     "name": "stderr",
     "output_type": "stream",
     "text": [
      "10:01:14 - cmdstanpy - INFO - Chain [1] start processing\n",
      "10:01:17 - cmdstanpy - INFO - Chain [1] done processing\n"
     ]
    },
    {
     "name": "stdout",
     "output_type": "stream",
     "text": [
      "SMAPE dengan changepoint_prior_scale=0.2, seasonality_prior_scale=2, n_changepoints=100, seasonality_mode=multiplicative: 40.01%\n"
     ]
    },
    {
     "name": "stderr",
     "output_type": "stream",
     "text": [
      "10:01:18 - cmdstanpy - INFO - Chain [1] start processing\n",
      "10:01:22 - cmdstanpy - INFO - Chain [1] done processing\n"
     ]
    },
    {
     "name": "stdout",
     "output_type": "stream",
     "text": [
      "SMAPE dengan changepoint_prior_scale=0.2, seasonality_prior_scale=2, n_changepoints=150, seasonality_mode=multiplicative: 38.69%\n",
      "\n",
      "Parameter terbaik: changepoint_prior_scale=0.2, seasonality_prior_scale=0.5, n_changepoints=150, seasonality_mode=multiplicative\n",
      "SMAPE terbaik: 30.16%\n"
     ]
    },
    {
     "name": "stderr",
     "output_type": "stream",
     "text": [
      "10:01:22 - cmdstanpy - INFO - Chain [1] start processing\n",
      "10:01:27 - cmdstanpy - INFO - Chain [1] done processing\n",
      "10:01:27 - cmdstanpy - INFO - Chain [1] start processing\n",
      "10:01:32 - cmdstanpy - INFO - Chain [1] done processing\n"
     ]
    }
   ],
   "source": [
    "# Fungsi SMAPE\n",
    "def smape(actual, predicted):\n",
    "    return 100 * np.mean(2 * np.abs(predicted - actual) / (np.abs(predicted) + np.abs(actual)))\n",
    "\n",
    "# Data Preparation (Anda bisa menyesuaikan dengan dataset Anda)\n",
    "train_size = int(0.9 * len(coal_all_area_BB))\n",
    "train_data = coal_all_area_BB[:train_size]\n",
    "test_data = coal_all_area_BB[train_size:]\n",
    "\n",
    "# Parameter tuning grid\n",
    "changepoint_prior_scales = [0.2]\n",
    "seasonality_prior_scales = [0.5, 1,2]\n",
    "n_changepoints = [ 100, 150]\n",
    "seasonality_modes = ['multiplicative']\n",
    "\n",
    "# Kombinasi parameter\n",
    "param_combinations = list(itertools.product(\n",
    "    changepoint_prior_scales,\n",
    "    seasonality_prior_scales,\n",
    "    n_changepoints,\n",
    "    seasonality_modes\n",
    "))\n",
    "\n",
    "# Variabel untuk menyimpan hasil tuning terbaik\n",
    "best_smape = float('inf')\n",
    "best_params = None\n",
    "\n",
    "# Looping untuk setiap kombinasi parameter\n",
    "for changepoint_prior_scale, seasonality_prior_scale, n_changepoints, seasonality_mode in param_combinations:\n",
    "    \n",
    "    # Inisialisasi model Prophet dengan parameter tuning\n",
    "    model = Prophet(\n",
    "        yearly_seasonality=True, \n",
    "        weekly_seasonality=False, \n",
    "        daily_seasonality=True,\n",
    "        seasonality_mode=seasonality_mode,\n",
    "        changepoint_prior_scale=changepoint_prior_scale,\n",
    "        seasonality_prior_scale=seasonality_prior_scale,\n",
    "        growth=\"linear\",\n",
    "        n_changepoints=n_changepoints,\n",
    "        interval_width=0.95\n",
    "\n",
    "    )\n",
    "    \n",
    "    # Menambahkan hari libur dan musiman tambahan jika diperlukan\n",
    "    model.add_country_holidays(country_name='Indonesia')\n",
    "    model.add_seasonality(name='monthly', period=30.5, fourier_order=5)\n",
    "\n",
    "    # Melatih model dengan data train\n",
    "    model.fit(train_data)\n",
    "\n",
    "    # Membuat dataframe masa depan yang mencakup periode data test\n",
    "    future = model.make_future_dataframe(periods=len(test_data), freq='D')\n",
    "\n",
    "    # Melakukan prediksi\n",
    "    forecast = model.predict(future)\n",
    "\n",
    "    # Mengambil prediksi yang sesuai dengan data test\n",
    "    forecast_test = forecast[-len(test_data):]\n",
    "\n",
    "    # Menggabungkan data asli dengan prediksi\n",
    "    test_data.loc[:, 'yhat'] = forecast_test['yhat'].values\n",
    "\n",
    "    # Menghitung SMAPE untuk data test\n",
    "    smape_value = smape(test_data['y'], test_data['yhat'])\n",
    "    \n",
    "    # Output hasil SMAPE\n",
    "    print(f\"SMAPE dengan changepoint_prior_scale={changepoint_prior_scale}, \"\n",
    "          f\"seasonality_prior_scale={seasonality_prior_scale}, n_changepoints={n_changepoints}, \"\n",
    "          f\"seasonality_mode={seasonality_mode}: {smape_value:.2f}%\")\n",
    "\n",
    "    # Menyimpan kombinasi parameter terbaik\n",
    "    if smape_value < best_smape:\n",
    "        best_smape = smape_value\n",
    "        best_params = (changepoint_prior_scale, seasonality_prior_scale, n_changepoints, seasonality_mode)\n",
    "\n",
    "# Menampilkan parameter terbaik\n",
    "print(f\"\\nParameter terbaik: changepoint_prior_scale={best_params[0]}, \"\n",
    "      f\"seasonality_prior_scale={best_params[1]}, n_changepoints={best_params[2]}, \"\n",
    "      f\"seasonality_mode={best_params[3]}\")\n",
    "print(f\"SMAPE terbaik: {best_smape:.2f}%\")\n",
    "\n",
    "# Perform cross-validation on the best model\n",
    "best_model = Prophet(\n",
    "    yearly_seasonality=True,\n",
    "    weekly_seasonality=False,\n",
    "    daily_seasonality=True,\n",
    "    seasonality_mode=best_params[3],\n",
    "    changepoint_prior_scale=best_params[0],\n",
    "    seasonality_prior_scale=best_params[1],\n",
    "    growth=\"linear\",\n",
    "    n_changepoints=best_params[2],\n",
    "    interval_width=0.95\n",
    ")\n",
    "best_model.add_country_holidays(country_name='Indonesia')\n",
    "best_model.add_seasonality(name='monthly', period=30.5, fourier_order=5)\n",
    "best_model.fit(train_data)\n",
    "\n",
    "# Latih model dengan seluruh data menggunakan parameter terbaik\n",
    "final_model = Prophet(\n",
    "    yearly_seasonality=True,\n",
    "    weekly_seasonality=False,\n",
    "    daily_seasonality=True,\n",
    "    seasonality_mode=best_params[3],\n",
    "    changepoint_prior_scale=best_params[0],\n",
    "    seasonality_prior_scale=best_params[1],\n",
    "    growth=\"linear\",\n",
    "    n_changepoints=best_params[2],\n",
    "    interval_width=0.95\n",
    ")\n",
    "final_model.add_country_holidays(country_name='Indonesia')\n",
    "final_model.add_seasonality(name='monthly', period=30.5, fourier_order=5)\n",
    "\n",
    "# Melatih model dengan seluruh data\n",
    "final_model.fit(coal_all_area_BB)\n",
    "\n",
    "# Membuat dataframe masa depan untuk 6 bulan ke depan\n",
    "future = final_model.make_future_dataframe(periods=300, freq='d')\n",
    "\n",
    "# Melakukan prediksi\n",
    "forecast_final = final_model.predict(future)\n",
    "\n",
    "# Menampilkan hasil prediksi\n",
    "# print(forecast_final[['ds', 'yhat', 'yhat_lower', 'yhat_upper']])\n",
    "\n",
    "# Menyimpan hasil prediksi ke dalam DataFrame\n",
    "forecast_all_area_BB= forecast_final[['ds', 'yhat']]\n",
    "forecast_all_area_BB.columns = ['Date', 'Forecast']\n"
   ]
  },
  {
   "cell_type": "code",
   "execution_count": 45,
   "metadata": {},
   "outputs": [],
   "source": [
    "# Pastikan kolom 'Date' dalam format datetime\n",
    "forecast_all_area_BB['Date'] = pd.to_datetime(forecast_all_area_BB['Date']).dt.date\n",
    "# Menambahkan data untuk 'Forecast'\n",
    "forecast_rows = pd.DataFrame({\n",
    "    'Tanggal': forecast_all_area_BB['Date'],\n",
    "    'Tonase': forecast_all_area_BB['Forecast'].round(3),\n",
    "    'Jenis': 'Forecast',\n",
    "    'Kategori' : 'Coal',\n",
    "    'Loc Src Area Name' : 'Banko Barat'\n",
    "})\n",
    "\n",
    "df_production_actual_BB = pd.DataFrame({\n",
    "    'Tanggal': pd.to_datetime(coal_all_area_BB['ds']).dt.date,\n",
    "    'Tonase': coal_all_area_BB['y'].round(3),\n",
    "    'Jenis': 'Actual',\n",
    "    'Kategori' : 'Coal',\n",
    "    'Loc Src Area Name' : 'Banko Barat'\n",
    "})\n",
    "current_time = datetime.today().date()\n",
    "best_smape_rounded = round(best_smape, 3)\n",
    "smape_BB = pd.DataFrame({\n",
    "    'Tanggal' : current_time,\n",
    "    'Tonase' : [best_smape_rounded],\n",
    "    'Jenis' :['Smape'],\n",
    "    'Kategori' : ['Coal'],\n",
    "    'Loc Src Area Name' : ['Banko Barat']\n",
    "})\n",
    "\n",
    "# Menggabungkan semua DataFrame\n",
    "result_df_BB = pd.concat([df_production_actual_BB,forecast_rows, smape_BB], ignore_index=True)\n"
   ]
  },
  {
   "cell_type": "code",
   "execution_count": 46,
   "metadata": {},
   "outputs": [],
   "source": [
    "#  Banko Tengah"
   ]
  },
  {
   "cell_type": "code",
   "execution_count": 47,
   "metadata": {},
   "outputs": [],
   "source": [
    "# Banko Tengah\n",
    "df_temp_coal_BT = df_temp_coal_real[df_temp_coal_real['Loc Src Area Name']=='Banko Tengah']\n"
   ]
  },
  {
   "cell_type": "code",
   "execution_count": 48,
   "metadata": {},
   "outputs": [],
   "source": [
    "df_temp_coal_BT = df_temp_coal_BT.groupby(['Tanggal'])['Tonase'].sum().reset_index()"
   ]
  },
  {
   "cell_type": "code",
   "execution_count": 49,
   "metadata": {},
   "outputs": [],
   "source": [
    "df_temp_coal_BT['Tanggal'] = pd.to_datetime(df_temp_coal_BT['Tanggal'])"
   ]
  },
  {
   "cell_type": "code",
   "execution_count": 50,
   "metadata": {},
   "outputs": [],
   "source": [
    "# Data yang diambil dari tanggl 1 januari 2020 (Sesuai Kesepakatan dengan Pihak PTBA)\n",
    "df_prep_Date_BT = df_temp_coal_BT[df_temp_coal_BT['Tanggal'] >= '2020-01-01']"
   ]
  },
  {
   "cell_type": "code",
   "execution_count": 51,
   "metadata": {},
   "outputs": [],
   "source": [
    "# reset index\n",
    "df_prep_Date_index_BT = df_prep_Date_BT.reset_index().sort_values(by=['Tanggal'])\n",
    "df_prep_Date_index_BT = df_prep_Date_index_BT[['Tanggal','Tonase']]"
   ]
  },
  {
   "cell_type": "code",
   "execution_count": 52,
   "metadata": {},
   "outputs": [],
   "source": [
    "\n",
    "# Tidak Menyertakan Nilai 0 Dan null\n",
    "temp_df_coal_BT =  df_prep_Date_index_BT[df_prep_Date_index_BT['Tonase'] != 0].reset_index(drop=True).sort_values(by = ['Tanggal'])"
   ]
  },
  {
   "cell_type": "code",
   "execution_count": 53,
   "metadata": {},
   "outputs": [],
   "source": [
    "coal_all_area_BT = temp_df_coal_BT[temp_df_coal_BT['Tanggal'] <= pd.to_datetime('today')]\n",
    "coal_all_area_BT.columns=['ds','y']"
   ]
  },
  {
   "cell_type": "code",
   "execution_count": 54,
   "metadata": {},
   "outputs": [
    {
     "name": "stderr",
     "output_type": "stream",
     "text": [
      "10:01:33 - cmdstanpy - INFO - Chain [1] start processing\n",
      "10:01:34 - cmdstanpy - INFO - Chain [1] done processing\n",
      "10:01:34 - cmdstanpy - INFO - Chain [1] start processing\n"
     ]
    },
    {
     "name": "stdout",
     "output_type": "stream",
     "text": [
      "SMAPE dengan changepoint_prior_scale=0.2, seasonality_prior_scale=0.5, n_changepoints=100, seasonality_mode=multiplicative: 24.39%\n"
     ]
    },
    {
     "name": "stderr",
     "output_type": "stream",
     "text": [
      "10:01:34 - cmdstanpy - INFO - Chain [1] done processing\n",
      "10:01:35 - cmdstanpy - INFO - Chain [1] start processing\n"
     ]
    },
    {
     "name": "stdout",
     "output_type": "stream",
     "text": [
      "SMAPE dengan changepoint_prior_scale=0.2, seasonality_prior_scale=0.5, n_changepoints=150, seasonality_mode=multiplicative: 24.34%\n"
     ]
    },
    {
     "name": "stderr",
     "output_type": "stream",
     "text": [
      "10:01:35 - cmdstanpy - INFO - Chain [1] done processing\n"
     ]
    },
    {
     "name": "stdout",
     "output_type": "stream",
     "text": [
      "SMAPE dengan changepoint_prior_scale=0.2, seasonality_prior_scale=1, n_changepoints=100, seasonality_mode=multiplicative: 24.39%\n"
     ]
    },
    {
     "name": "stderr",
     "output_type": "stream",
     "text": [
      "10:01:35 - cmdstanpy - INFO - Chain [1] start processing\n",
      "10:01:36 - cmdstanpy - INFO - Chain [1] done processing\n"
     ]
    },
    {
     "name": "stdout",
     "output_type": "stream",
     "text": [
      "SMAPE dengan changepoint_prior_scale=0.2, seasonality_prior_scale=1, n_changepoints=150, seasonality_mode=multiplicative: 24.39%\n"
     ]
    },
    {
     "name": "stderr",
     "output_type": "stream",
     "text": [
      "10:01:36 - cmdstanpy - INFO - Chain [1] start processing\n",
      "10:01:36 - cmdstanpy - INFO - Chain [1] done processing\n",
      "10:01:37 - cmdstanpy - INFO - Chain [1] start processing\n"
     ]
    },
    {
     "name": "stdout",
     "output_type": "stream",
     "text": [
      "SMAPE dengan changepoint_prior_scale=0.2, seasonality_prior_scale=2, n_changepoints=100, seasonality_mode=multiplicative: 24.39%\n"
     ]
    },
    {
     "name": "stderr",
     "output_type": "stream",
     "text": [
      "10:01:37 - cmdstanpy - INFO - Chain [1] done processing\n",
      "10:01:37 - cmdstanpy - INFO - Chain [1] start processing\n"
     ]
    },
    {
     "name": "stdout",
     "output_type": "stream",
     "text": [
      "SMAPE dengan changepoint_prior_scale=0.2, seasonality_prior_scale=2, n_changepoints=150, seasonality_mode=multiplicative: 24.44%\n"
     ]
    },
    {
     "name": "stderr",
     "output_type": "stream",
     "text": [
      "10:01:38 - cmdstanpy - INFO - Chain [1] done processing\n",
      "10:01:39 - cmdstanpy - INFO - Chain [1] start processing\n"
     ]
    },
    {
     "name": "stdout",
     "output_type": "stream",
     "text": [
      "SMAPE dengan changepoint_prior_scale=0.5, seasonality_prior_scale=0.5, n_changepoints=100, seasonality_mode=multiplicative: 45.15%\n"
     ]
    },
    {
     "name": "stderr",
     "output_type": "stream",
     "text": [
      "10:01:40 - cmdstanpy - INFO - Chain [1] done processing\n",
      "10:01:40 - cmdstanpy - INFO - Chain [1] start processing\n"
     ]
    },
    {
     "name": "stdout",
     "output_type": "stream",
     "text": [
      "SMAPE dengan changepoint_prior_scale=0.5, seasonality_prior_scale=0.5, n_changepoints=150, seasonality_mode=multiplicative: 44.68%\n"
     ]
    },
    {
     "name": "stderr",
     "output_type": "stream",
     "text": [
      "10:01:41 - cmdstanpy - INFO - Chain [1] done processing\n"
     ]
    },
    {
     "name": "stdout",
     "output_type": "stream",
     "text": [
      "SMAPE dengan changepoint_prior_scale=0.5, seasonality_prior_scale=1, n_changepoints=100, seasonality_mode=multiplicative: 43.00%\n"
     ]
    },
    {
     "name": "stderr",
     "output_type": "stream",
     "text": [
      "10:01:42 - cmdstanpy - INFO - Chain [1] start processing\n",
      "10:01:43 - cmdstanpy - INFO - Chain [1] done processing\n",
      "10:01:44 - cmdstanpy - INFO - Chain [1] start processing\n"
     ]
    },
    {
     "name": "stdout",
     "output_type": "stream",
     "text": [
      "SMAPE dengan changepoint_prior_scale=0.5, seasonality_prior_scale=1, n_changepoints=150, seasonality_mode=multiplicative: 41.43%\n"
     ]
    },
    {
     "name": "stderr",
     "output_type": "stream",
     "text": [
      "10:01:45 - cmdstanpy - INFO - Chain [1] done processing\n",
      "10:01:46 - cmdstanpy - INFO - Chain [1] start processing\n"
     ]
    },
    {
     "name": "stdout",
     "output_type": "stream",
     "text": [
      "SMAPE dengan changepoint_prior_scale=0.5, seasonality_prior_scale=2, n_changepoints=100, seasonality_mode=multiplicative: 46.27%\n"
     ]
    },
    {
     "name": "stderr",
     "output_type": "stream",
     "text": [
      "10:01:47 - cmdstanpy - INFO - Chain [1] done processing\n",
      "10:01:47 - cmdstanpy - INFO - Chain [1] start processing\n"
     ]
    },
    {
     "name": "stdout",
     "output_type": "stream",
     "text": [
      "SMAPE dengan changepoint_prior_scale=0.5, seasonality_prior_scale=2, n_changepoints=150, seasonality_mode=multiplicative: 47.77%\n",
      "\n",
      "Parameter terbaik: changepoint_prior_scale=0.2, seasonality_prior_scale=0.5, n_changepoints=150, seasonality_mode=multiplicative\n",
      "SMAPE terbaik: 24.34%\n"
     ]
    },
    {
     "name": "stderr",
     "output_type": "stream",
     "text": [
      "10:01:48 - cmdstanpy - INFO - Chain [1] done processing\n",
      "10:01:48 - cmdstanpy - INFO - Chain [1] start processing\n",
      "10:01:48 - cmdstanpy - INFO - Chain [1] done processing\n"
     ]
    }
   ],
   "source": [
    "# Fungsi SMAPE\n",
    "def smape(actual, predicted):\n",
    "    return 100 * np.mean(2 * np.abs(predicted - actual) / (np.abs(predicted) + np.abs(actual)))\n",
    "\n",
    "# Data Preparation (Anda bisa menyesuaikan dengan dataset Anda)\n",
    "train_size = int(0.9 * len(coal_all_area_BT))\n",
    "train_data = coal_all_area_BT[:train_size]\n",
    "test_data = coal_all_area_BT[train_size:]\n",
    "\n",
    "# Parameter tuning grid\n",
    "changepoint_prior_scales = [  0.2, 0.5]\n",
    "seasonality_prior_scales = [0.5, 1,2]\n",
    "n_changepoints = [ 100, 150]\n",
    "seasonality_modes = ['multiplicative']\n",
    "\n",
    "# Kombinasi parameter\n",
    "param_combinations = list(itertools.product(\n",
    "    changepoint_prior_scales,\n",
    "    seasonality_prior_scales,\n",
    "    n_changepoints,\n",
    "    seasonality_modes\n",
    "))\n",
    "\n",
    "# Variabel untuk menyimpan hasil tuning terbaik\n",
    "best_smape = float('inf')\n",
    "best_params = None\n",
    "\n",
    "# Looping untuk setiap kombinasi parameter\n",
    "for changepoint_prior_scale, seasonality_prior_scale, n_changepoints, seasonality_mode in param_combinations:\n",
    "    \n",
    "    # Inisialisasi model Prophet dengan parameter tuning\n",
    "    model = Prophet(\n",
    "        yearly_seasonality=True, \n",
    "        weekly_seasonality=True, \n",
    "        daily_seasonality=True,\n",
    "        seasonality_mode=seasonality_mode,\n",
    "        changepoint_prior_scale=changepoint_prior_scale,\n",
    "        seasonality_prior_scale=seasonality_prior_scale,\n",
    "        growth=\"linear\",\n",
    "        n_changepoints=n_changepoints,\n",
    "        interval_width=0.95\n",
    "\n",
    "    )\n",
    "    \n",
    "    # Menambahkan hari libur dan musiman tambahan jika diperlukan\n",
    "    model.add_country_holidays(country_name='Indonesia')\n",
    "    model.add_seasonality(name='monthly', period=30.5, fourier_order=5)\n",
    "\n",
    "    # Melatih model dengan data train\n",
    "    model.fit(train_data)\n",
    "\n",
    "    # Membuat dataframe masa depan yang mencakup periode data test\n",
    "    future = model.make_future_dataframe(periods=len(test_data), freq='D')\n",
    "\n",
    "    # Melakukan prediksi\n",
    "    forecast = model.predict(future)\n",
    "\n",
    "    # Mengambil prediksi yang sesuai dengan data test\n",
    "    forecast_test = forecast[-len(test_data):]\n",
    "\n",
    "    # Menggabungkan data asli dengan prediksi\n",
    "    test_data.loc[:, 'yhat'] = forecast_test['yhat'].values\n",
    "\n",
    "    # Menghitung SMAPE untuk data test\n",
    "    smape_value = smape(test_data['y'], test_data['yhat'])\n",
    "    \n",
    "    # Output hasil SMAPE\n",
    "    print(f\"SMAPE dengan changepoint_prior_scale={changepoint_prior_scale}, \"\n",
    "          f\"seasonality_prior_scale={seasonality_prior_scale}, n_changepoints={n_changepoints}, \"\n",
    "          f\"seasonality_mode={seasonality_mode}: {smape_value:.2f}%\")\n",
    "\n",
    "    # Menyimpan kombinasi parameter terbaik\n",
    "    if smape_value < best_smape:\n",
    "        best_smape = smape_value\n",
    "        best_params = (changepoint_prior_scale, seasonality_prior_scale, n_changepoints, seasonality_mode)\n",
    "\n",
    "# Menampilkan parameter terbaik\n",
    "print(f\"\\nParameter terbaik: changepoint_prior_scale={best_params[0]}, \"\n",
    "      f\"seasonality_prior_scale={best_params[1]}, n_changepoints={best_params[2]}, \"\n",
    "      f\"seasonality_mode={best_params[3]}\")\n",
    "print(f\"SMAPE terbaik: {best_smape:.2f}%\")\n",
    "\n",
    "# Perform cross-validation on the best model\n",
    "best_model = Prophet(\n",
    "    yearly_seasonality=True,\n",
    "    weekly_seasonality=False,\n",
    "    daily_seasonality=True,\n",
    "    seasonality_mode=best_params[3],\n",
    "    changepoint_prior_scale=best_params[0],\n",
    "    seasonality_prior_scale=best_params[1],\n",
    "    growth=\"linear\",\n",
    "    n_changepoints=best_params[2],\n",
    "    interval_width=0.95\n",
    ")\n",
    "best_model.add_country_holidays(country_name='Indonesia')\n",
    "best_model.add_seasonality(name='monthly', period=30.5, fourier_order=5)\n",
    "best_model.fit(train_data)\n",
    "# Latih model dengan seluruh data menggunakan parameter terbaik\n",
    "final_model = Prophet(\n",
    "    yearly_seasonality=True,\n",
    "    weekly_seasonality=True,\n",
    "    daily_seasonality=True,\n",
    "    seasonality_mode=best_params[3],\n",
    "    changepoint_prior_scale=best_params[0],\n",
    "    seasonality_prior_scale=best_params[1],\n",
    "    growth=\"linear\",\n",
    "    n_changepoints=best_params[2],\n",
    "    interval_width=0.95\n",
    ")\n",
    "final_model.add_country_holidays(country_name='Indonesia')\n",
    "final_model.add_seasonality(name='monthly', period=30.5, fourier_order=5)\n",
    "\n",
    "# Melatih model dengan seluruh data\n",
    "final_model.fit(coal_all_area_BT)\n",
    "\n",
    "# Membuat dataframe masa depan untuk 6 bulan ke depan\n",
    "future = final_model.make_future_dataframe(periods=300, freq='d')\n",
    "\n",
    "# Melakukan prediksi\n",
    "forecast_final = final_model.predict(future)\n",
    "\n",
    "# Menampilkan hasil prediksi\n",
    "# print(forecast_final[['ds', 'yhat', 'yhat_lower', 'yhat_upper']])\n",
    "\n",
    "# Menyimpan hasil prediksi ke dalam DataFrame\n",
    "forecast_all_area_BT= forecast_final[['ds', 'yhat']]\n",
    "forecast_all_area_BT.columns = ['Date', 'Forecast']"
   ]
  },
  {
   "cell_type": "code",
   "execution_count": 55,
   "metadata": {},
   "outputs": [],
   "source": [
    "# Pastikan kolom 'Date' dalam format datetime\n",
    "forecast_all_area_BT['Date'] = pd.to_datetime(forecast_all_area_BT['Date']).dt.date\n",
    "# Menambahkan data untuk 'Forecast'\n",
    "forecast_rows = pd.DataFrame({\n",
    "    'Tanggal': forecast_all_area_BT['Date'],\n",
    "    'Tonase': forecast_all_area_BT['Forecast'].round(3),\n",
    "    'Jenis': 'Forecast',\n",
    "    'Kategori' : 'Coal',\n",
    "    'Loc Src Area Name' : 'Banko Tengah'\n",
    "})\n",
    "\n",
    "df_production_actual_BT = pd.DataFrame({\n",
    "    'Tanggal': pd.to_datetime(coal_all_area_BT['ds']).dt.date,\n",
    "    'Tonase': coal_all_area_BT['y'].round(3),\n",
    "    'Jenis': 'Actual',\n",
    "    'Kategori' : 'Coal',\n",
    "    'Loc Src Area Name' : 'Banko Tengah'\n",
    "})\n",
    "current_time = datetime.today().date()\n",
    "best_smape_rounded = round(best_smape, 3)\n",
    "smape_BT = pd.DataFrame({\n",
    "    'Tanggal' : current_time,\n",
    "    'Tonase' : [best_smape_rounded],\n",
    "    'Jenis' :['Smape'],\n",
    "    'Kategori' : ['Coal'],\n",
    "    'Loc Src Area Name' : ['Banko Tengah']\n",
    "})\n",
    "\n",
    "# Menggabungkan semua DataFrame\n",
    "result_df_BT = pd.concat([df_production_actual_BT,forecast_rows, smape_BT], ignore_index=True)\n",
    "# result_df_BT\n"
   ]
  },
  {
   "cell_type": "code",
   "execution_count": 56,
   "metadata": {},
   "outputs": [],
   "source": [
    "# Menggabungkan semua data frame\n",
    "df_all_forecast = pd.concat([result_df_production, result_df_MTB, result_df_BB, result_df_BT, result_df_TAL], axis=0, ignore_index=True)\n",
    "# df_all_forecast\n"
   ]
  },
  {
   "cell_type": "code",
   "execution_count": 58,
   "metadata": {},
   "outputs": [],
   "source": [
    "df_temp_coal_nonreal = df[df['Jenis'].isin(['Plan'])]"
   ]
  },
  {
   "cell_type": "code",
   "execution_count": 59,
   "metadata": {},
   "outputs": [],
   "source": [
    "df_temp_coal_nonreal = df_temp_coal_nonreal[df_temp_coal_nonreal['Product Type Name'].isin(['Market Brand','Mine Brand'])]\n"
   ]
  },
  {
   "cell_type": "code",
   "execution_count": 60,
   "metadata": {},
   "outputs": [],
   "source": [
    "df_temp_coal_nonreal = df_temp_coal_nonreal[df_temp_coal_nonreal['Tanggal'] >= '2020-01-01']"
   ]
  },
  {
   "cell_type": "code",
   "execution_count": 61,
   "metadata": {},
   "outputs": [],
   "source": [
    "df_temp_plan =  df_temp_coal_nonreal[['Tanggal','Tonase','Jenis','Loc Src Area Name']]"
   ]
  },
  {
   "cell_type": "code",
   "execution_count": 62,
   "metadata": {},
   "outputs": [],
   "source": [
    "df_temp_all_area_plan = df_temp_plan.groupby(['Tanggal'])['Tonase'].sum().reset_index()"
   ]
  },
  {
   "cell_type": "code",
   "execution_count": 63,
   "metadata": {},
   "outputs": [],
   "source": [
    "df_Plan_all = pd.DataFrame({\n",
    "    'Tanggal': pd.to_datetime(df_temp_all_area_plan['Tanggal']).dt.date,\n",
    "    'Tonase': df_temp_all_area_plan['Tonase'].round(3),\n",
    "    'Jenis': 'Plan',\n",
    "    'Kategori' : 'Coal',\n",
    "    'Loc Src Area Name' : 'All Area'\n",
    "})\n",
    "df_Plan = pd.DataFrame({\n",
    "    'Tanggal': pd.to_datetime(df_temp_plan['Tanggal']).dt.date,\n",
    "    'Tonase': df_temp_plan['Tonase'].round(3),\n",
    "    'Jenis': df_temp_plan['Jenis'],\n",
    "    'Kategori' : 'Coal',\n",
    "    'Loc Src Area Name' : df_temp_plan['Loc Src Area Name']\n",
    "})"
   ]
  },
  {
   "cell_type": "code",
   "execution_count": 64,
   "metadata": {},
   "outputs": [],
   "source": [
    "# OVERBURDEN\n",
    "#  Preprocessing \n",
    "df_temp_OB_real = df[df['Product Type Name'].isin(['Waste'])].copy()\n"
   ]
  },
  {
   "cell_type": "code",
   "execution_count": 65,
   "metadata": {},
   "outputs": [],
   "source": [
    "# preprocessing, mengabil nilai real tanpa plan (RKAP dan Rakor)\n",
    "df_temp_OB_real = df_temp_OB_real[df_temp_OB_real['Jenis']=='Real']"
   ]
  },
  {
   "cell_type": "code",
   "execution_count": 75,
   "metadata": {},
   "outputs": [],
   "source": [
    "# MTB\n",
    "df_temp_OB_MTB = df_temp_OB_real[df_temp_OB_real['Loc Src Area Name']=='MTB']"
   ]
  },
  {
   "cell_type": "code",
   "execution_count": 76,
   "metadata": {},
   "outputs": [],
   "source": [
    "temp_OB_MTB = df_temp_OB_MTB.groupby(['Tanggal'])['Tonase'].sum().reset_index()"
   ]
  },
  {
   "cell_type": "code",
   "execution_count": 77,
   "metadata": {},
   "outputs": [],
   "source": [
    "temp_OB_MTB['Tanggal'] = pd.to_datetime(temp_OB_MTB['Tanggal'])\n"
   ]
  },
  {
   "cell_type": "code",
   "execution_count": 78,
   "metadata": {},
   "outputs": [],
   "source": [
    "# Data yang diambil dari tanggl 1 januari 2020 (Sesuai Kesepakatan dengan Pihak PTBA)\n",
    "df_prep_Date_MTB_OB = temp_OB_MTB[temp_OB_MTB['Tanggal'] >= '2020-01-01']"
   ]
  },
  {
   "cell_type": "code",
   "execution_count": 79,
   "metadata": {},
   "outputs": [],
   "source": [
    "# reset index\n",
    "df_prep_Date_MTB_OB = df_prep_Date_MTB_OB.reset_index().sort_values(by=['Tanggal'])\n",
    "df_prep_Date_MTB_OB = df_prep_Date_MTB_OB[['Tanggal','Tonase']]"
   ]
  },
  {
   "cell_type": "code",
   "execution_count": 80,
   "metadata": {},
   "outputs": [],
   "source": [
    "# Tidak Menyertakan Nilai 0 Dan null\n",
    "temp_df_OB_MTB =  df_prep_Date_MTB_OB[df_prep_Date_MTB_OB['Tonase'] != 0].reset_index(drop=True).sort_values(by = ['Tanggal'])"
   ]
  },
  {
   "cell_type": "code",
   "execution_count": 81,
   "metadata": {},
   "outputs": [],
   "source": [
    "OB_MTB = temp_df_OB_MTB[temp_df_OB_MTB['Tanggal'] <= pd.to_datetime('today')]"
   ]
  },
  {
   "cell_type": "code",
   "execution_count": 82,
   "metadata": {},
   "outputs": [],
   "source": [
    "OB_MTB.columns=['ds','y']"
   ]
  },
  {
   "cell_type": "code",
   "execution_count": 83,
   "metadata": {},
   "outputs": [
    {
     "name": "stderr",
     "output_type": "stream",
     "text": [
      "10:01:50 - cmdstanpy - INFO - Chain [1] start processing\n",
      "10:01:51 - cmdstanpy - INFO - Chain [1] done processing\n"
     ]
    },
    {
     "name": "stdout",
     "output_type": "stream",
     "text": [
      "SMAPE dengan changepoint_prior_scale=0.1, seasonality_prior_scale=1, n_changepoints=50, seasonality_mode=multiplicative: 34.13%\n"
     ]
    },
    {
     "name": "stderr",
     "output_type": "stream",
     "text": [
      "10:01:52 - cmdstanpy - INFO - Chain [1] start processing\n",
      "10:01:55 - cmdstanpy - INFO - Chain [1] done processing\n"
     ]
    },
    {
     "name": "stdout",
     "output_type": "stream",
     "text": [
      "SMAPE dengan changepoint_prior_scale=0.1, seasonality_prior_scale=1, n_changepoints=100, seasonality_mode=multiplicative: 34.23%\n"
     ]
    },
    {
     "name": "stderr",
     "output_type": "stream",
     "text": [
      "10:01:55 - cmdstanpy - INFO - Chain [1] start processing\n",
      "10:01:57 - cmdstanpy - INFO - Chain [1] done processing\n"
     ]
    },
    {
     "name": "stdout",
     "output_type": "stream",
     "text": [
      "SMAPE dengan changepoint_prior_scale=0.1, seasonality_prior_scale=5, n_changepoints=50, seasonality_mode=multiplicative: 37.35%\n"
     ]
    },
    {
     "name": "stderr",
     "output_type": "stream",
     "text": [
      "10:01:58 - cmdstanpy - INFO - Chain [1] start processing\n",
      "10:02:01 - cmdstanpy - INFO - Chain [1] done processing\n"
     ]
    },
    {
     "name": "stdout",
     "output_type": "stream",
     "text": [
      "SMAPE dengan changepoint_prior_scale=0.1, seasonality_prior_scale=5, n_changepoints=100, seasonality_mode=multiplicative: 35.23%\n"
     ]
    },
    {
     "name": "stderr",
     "output_type": "stream",
     "text": [
      "10:02:02 - cmdstanpy - INFO - Chain [1] start processing\n",
      "10:02:04 - cmdstanpy - INFO - Chain [1] done processing\n"
     ]
    },
    {
     "name": "stdout",
     "output_type": "stream",
     "text": [
      "SMAPE dengan changepoint_prior_scale=0.5, seasonality_prior_scale=1, n_changepoints=50, seasonality_mode=multiplicative: 48.30%\n"
     ]
    },
    {
     "name": "stderr",
     "output_type": "stream",
     "text": [
      "10:02:04 - cmdstanpy - INFO - Chain [1] start processing\n",
      "10:02:07 - cmdstanpy - INFO - Chain [1] done processing\n"
     ]
    },
    {
     "name": "stdout",
     "output_type": "stream",
     "text": [
      "SMAPE dengan changepoint_prior_scale=0.5, seasonality_prior_scale=1, n_changepoints=100, seasonality_mode=multiplicative: 47.89%\n"
     ]
    },
    {
     "name": "stderr",
     "output_type": "stream",
     "text": [
      "10:02:08 - cmdstanpy - INFO - Chain [1] start processing\n",
      "10:02:09 - cmdstanpy - INFO - Chain [1] done processing\n"
     ]
    },
    {
     "name": "stdout",
     "output_type": "stream",
     "text": [
      "SMAPE dengan changepoint_prior_scale=0.5, seasonality_prior_scale=5, n_changepoints=50, seasonality_mode=multiplicative: 52.15%\n"
     ]
    },
    {
     "name": "stderr",
     "output_type": "stream",
     "text": [
      "10:02:10 - cmdstanpy - INFO - Chain [1] start processing\n",
      "10:02:18 - cmdstanpy - INFO - Chain [1] done processing\n"
     ]
    },
    {
     "name": "stdout",
     "output_type": "stream",
     "text": [
      "SMAPE dengan changepoint_prior_scale=0.5, seasonality_prior_scale=5, n_changepoints=100, seasonality_mode=multiplicative: 46.90%\n",
      "\n",
      "Parameter terbaik: changepoint_prior_scale=0.1, seasonality_prior_scale=1, n_changepoints=50, seasonality_mode=multiplicative\n",
      "SMAPE terbaik: 34.13%\n"
     ]
    },
    {
     "name": "stderr",
     "output_type": "stream",
     "text": [
      "10:02:19 - cmdstanpy - INFO - Chain [1] start processing\n",
      "10:02:22 - cmdstanpy - INFO - Chain [1] done processing\n",
      "10:02:23 - cmdstanpy - INFO - Chain [1] start processing\n",
      "10:02:26 - cmdstanpy - INFO - Chain [1] done processing\n"
     ]
    }
   ],
   "source": [
    "# Fungsi SMAPE\n",
    "def smape(actual, predicted):\n",
    "    return 100 * np.mean(2 * np.abs(predicted - actual) / (np.abs(predicted) + np.abs(actual)))\n",
    "\n",
    "# Data Preparation (Anda bisa menyesuaikan dengan dataset Anda)\n",
    "train_size = int(0.9 * len(OB_MTB))\n",
    "train_data = OB_MTB[:train_size]\n",
    "test_data = OB_MTB[train_size:]\n",
    "\n",
    "# Parameter tuning grid\n",
    "changepoint_prior_scales = [ 0.1, 0.5]\n",
    "seasonality_prior_scales = [ 1,5]\n",
    "n_changepoints = [ 50, 100]\n",
    "seasonality_modes = ['multiplicative']\n",
    "\n",
    "# Kombinasi parameter\n",
    "param_combinations = list(itertools.product(\n",
    "    changepoint_prior_scales,\n",
    "    seasonality_prior_scales,\n",
    "    n_changepoints,\n",
    "    seasonality_modes\n",
    "))\n",
    "\n",
    "# Variabel untuk menyimpan hasil tuning terbaik\n",
    "best_smape = float('inf')\n",
    "best_params = None\n",
    "\n",
    "# Looping untuk setiap kombinasi parameter\n",
    "for changepoint_prior_scale, seasonality_prior_scale, n_changepoints, seasonality_mode in param_combinations:\n",
    "    \n",
    "    # Inisialisasi model Prophet dengan parameter tuning\n",
    "    model = Prophet(\n",
    "        yearly_seasonality=True, \n",
    "        weekly_seasonality=False, \n",
    "        daily_seasonality=True,\n",
    "        seasonality_mode=seasonality_mode,\n",
    "        changepoint_prior_scale=changepoint_prior_scale,\n",
    "        seasonality_prior_scale=seasonality_prior_scale,\n",
    "        growth=\"linear\",\n",
    "        n_changepoints=n_changepoints,\n",
    "        interval_width=0.95\n",
    "    )\n",
    "    \n",
    "    # Menambahkan hari libur dan musiman tambahan jika diperlukan\n",
    "    model.add_country_holidays(country_name='Indonesia')\n",
    "    model.add_seasonality(name='monthly', period=30.5, fourier_order=5)\n",
    "\n",
    "    # Melatih model dengan data train\n",
    "    model.fit(train_data)\n",
    "\n",
    "    # Membuat dataframe masa depan yang mencakup periode data test\n",
    "    future = model.make_future_dataframe(periods=len(test_data), freq='D')\n",
    "\n",
    "    # Melakukan prediksi\n",
    "    forecast = model.predict(future)\n",
    "\n",
    "    # Mengambil prediksi yang sesuai dengan data test\n",
    "    forecast_test = forecast[-len(test_data):]\n",
    "\n",
    "    # Menggabungkan data asli dengan prediksi\n",
    "    test_data.loc[:, 'yhat'] = forecast_test['yhat'].values\n",
    "\n",
    "    # Menghitung SMAPE untuk data test\n",
    "    smape_value = smape(test_data['y'], test_data['yhat'])\n",
    "    \n",
    "    # Output hasil SMAPE\n",
    "    print(f\"SMAPE dengan changepoint_prior_scale={changepoint_prior_scale}, \"\n",
    "          f\"seasonality_prior_scale={seasonality_prior_scale}, n_changepoints={n_changepoints}, \"\n",
    "          f\"seasonality_mode={seasonality_mode}: {smape_value:.2f}%\")\n",
    "\n",
    "    # Menyimpan kombinasi parameter terbaik\n",
    "    if smape_value < best_smape:\n",
    "        best_smape = smape_value\n",
    "        best_params = (changepoint_prior_scale, seasonality_prior_scale, n_changepoints, seasonality_mode)\n",
    "\n",
    "# Menampilkan parameter terbaik\n",
    "print(f\"\\nParameter terbaik: changepoint_prior_scale={best_params[0]}, \"\n",
    "      f\"seasonality_prior_scale={best_params[1]}, n_changepoints={best_params[2]}, \"\n",
    "      f\"seasonality_mode={best_params[3]}\")\n",
    "print(f\"SMAPE terbaik: {best_smape:.2f}%\")\n",
    "\n",
    "# Perform cross-validation on the best model\n",
    "best_model= Prophet(\n",
    "    yearly_seasonality=True,\n",
    "    weekly_seasonality=False,\n",
    "    daily_seasonality=True,\n",
    "    seasonality_mode=best_params[3],\n",
    "    changepoint_prior_scale=best_params[0],\n",
    "    seasonality_prior_scale=best_params[1],\n",
    "    growth=\"linear\",\n",
    "    n_changepoints=best_params[2],\n",
    "    interval_width=0.95\n",
    ")\n",
    "best_model.add_country_holidays(country_name='Indonesia')\n",
    "best_model.add_seasonality(name='monthly', period=30.5, fourier_order=5)\n",
    "best_model.fit(train_data)\n",
    "\n",
    "# Latih model dengan seluruh data menggunakan parameter terbaik\n",
    "final_model = Prophet(\n",
    "    yearly_seasonality=True,\n",
    "    weekly_seasonality=False,\n",
    "    daily_seasonality=True,\n",
    "    seasonality_mode=best_params[3],\n",
    "    changepoint_prior_scale=best_params[0],\n",
    "    seasonality_prior_scale=best_params[1],\n",
    "    growth=\"linear\",\n",
    "    n_changepoints=best_params[2],\n",
    "    interval_width=0.95\n",
    ")\n",
    "final_model.add_country_holidays(country_name='Indonesia')\n",
    "final_model.add_seasonality(name='monthly', period=30.5, fourier_order=5)\n",
    "\n",
    "# Melatih model dengan seluruh data\n",
    "final_model.fit(OB_MTB)\n",
    "\n",
    "# Membuat dataframe masa depan untuk 6 bulan ke depan\n",
    "future = final_model.make_future_dataframe(periods=300, freq='d')\n",
    "\n",
    "# Melakukan prediksi\n",
    "forecast_final = final_model.predict(future)\n",
    "\n",
    "# Menampilkan hasil prediksi\n",
    "# print(forecast_final[['ds', 'yhat', 'yhat_lower', 'yhat_upper']])\n",
    "\n",
    "# Menyimpan hasil prediksi ke dalam DataFrame\n",
    "forecast_all_area_OB_MTB= forecast_final[['ds', 'yhat']]\n",
    "forecast_all_area_OB_MTB.columns = ['Date', 'Forecast']"
   ]
  },
  {
   "cell_type": "code",
   "execution_count": 84,
   "metadata": {},
   "outputs": [],
   "source": [
    "# Pastikan kolom 'Date' dalam format datetime\n",
    "forecast_all_area_OB_MTB['Date'] = pd.to_datetime(forecast_all_area_OB_MTB['Date']).dt.date\n",
    "# Menambahkan data untuk 'Forecast'\n",
    "forecast_rows_OB_MTB = pd.DataFrame({\n",
    "    'Tanggal': forecast_all_area_OB_MTB['Date'],\n",
    "    'Tonase': forecast_all_area_OB_MTB['Forecast'].round(3),\n",
    "    'Jenis': 'Forecast',\n",
    "    'Kategori' : \"Overburden\",\n",
    "    'Loc Src Area Name' : 'MTB'\n",
    "})\n",
    "\n",
    "df_temp_OB_MTB = pd.DataFrame({\n",
    "    'Tanggal': pd.to_datetime(OB_MTB['ds']).dt.date,\n",
    "    'Tonase': OB_MTB['y'].round(3),\n",
    "    'Jenis': 'Actual',\n",
    "    'Kategori' : \"Overburden\",\n",
    "    'Loc Src Area Name' : 'MTB'\n",
    "})\n",
    "from datetime import datetime\n",
    "current_time = datetime.today().date()\n",
    "best_smape_rounded = round(best_smape, 3)\n",
    "smape_all_OB_MTB = pd.DataFrame({\n",
    "    'Tanggal' : current_time,\n",
    "    'Tonase' : [best_smape_rounded],\n",
    "    'Jenis' :['Smape'],\n",
    "    'Kategori' : \"Overburden\",\n",
    "    'Loc Src Area Name' : ['MTB']\n",
    "})\n",
    "\n",
    "# Menggabungkan semua DataFrame\n",
    "result_df_OB_MTB = pd.concat([df_temp_OB_MTB,forecast_rows_OB_MTB, smape_all_OB_MTB], ignore_index=True)\n",
    "# result_df_OB_MTB\n"
   ]
  },
  {
   "cell_type": "code",
   "execution_count": 85,
   "metadata": {},
   "outputs": [],
   "source": [
    "# TAL\n",
    "df_temp_OB_TAL = df_temp_OB_real[df_temp_OB_real['Loc Src Area Name']=='TAL']"
   ]
  },
  {
   "cell_type": "code",
   "execution_count": 86,
   "metadata": {},
   "outputs": [],
   "source": [
    "temp_OB_TAL = df_temp_OB_TAL.groupby(['Tanggal'])['Tonase'].sum().reset_index()"
   ]
  },
  {
   "cell_type": "code",
   "execution_count": 87,
   "metadata": {},
   "outputs": [],
   "source": [
    "temp_OB_TAL['Tanggal'] = pd.to_datetime(temp_OB_TAL['Tanggal'])"
   ]
  },
  {
   "cell_type": "code",
   "execution_count": 88,
   "metadata": {},
   "outputs": [],
   "source": [
    "# Data yang diambil dari tanggl 1 januari 2020 (Sesuai Kesepakatan dengan Pihak PTBA)\n",
    "df_prep_Date_TAL_OB = temp_OB_TAL[temp_OB_TAL['Tanggal'] >= '2020-01-01']"
   ]
  },
  {
   "cell_type": "code",
   "execution_count": 89,
   "metadata": {},
   "outputs": [],
   "source": [
    "# reset index\n",
    "df_prep_Date_index_TAL_OB = df_prep_Date_TAL_OB.reset_index().sort_values(by=['Tanggal'])\n",
    "df_prep_Date_index_TAL_OB = df_prep_Date_index_TAL_OB[['Tanggal','Tonase']]"
   ]
  },
  {
   "cell_type": "code",
   "execution_count": 90,
   "metadata": {},
   "outputs": [],
   "source": [
    "# Tidak Menyertakan Nilai 0 Dan null\n",
    "temp_df_OB_TAL =  df_prep_Date_index_TAL_OB[df_prep_Date_index_TAL_OB['Tonase'] != 0].reset_index(drop=True).sort_values(by = ['Tanggal'])"
   ]
  },
  {
   "cell_type": "code",
   "execution_count": 91,
   "metadata": {},
   "outputs": [],
   "source": [
    "OB_TAL = temp_df_OB_TAL[temp_df_OB_TAL['Tanggal'] <= pd.to_datetime('today')]"
   ]
  },
  {
   "cell_type": "code",
   "execution_count": 92,
   "metadata": {},
   "outputs": [],
   "source": [
    "OB_TAL.columns=['ds','y']"
   ]
  },
  {
   "cell_type": "code",
   "execution_count": 93,
   "metadata": {},
   "outputs": [
    {
     "name": "stderr",
     "output_type": "stream",
     "text": [
      "10:02:27 - cmdstanpy - INFO - Chain [1] start processing\n",
      "10:02:27 - cmdstanpy - INFO - Chain [1] done processing\n"
     ]
    },
    {
     "name": "stdout",
     "output_type": "stream",
     "text": [
      "SMAPE dengan changepoint_prior_scale=0.05, seasonality_prior_scale=0.2, n_changepoints=20, seasonality_mode=multiplicative: 25.73%\n"
     ]
    },
    {
     "name": "stderr",
     "output_type": "stream",
     "text": [
      "10:02:28 - cmdstanpy - INFO - Chain [1] start processing\n",
      "10:02:28 - cmdstanpy - INFO - Chain [1] done processing\n"
     ]
    },
    {
     "name": "stdout",
     "output_type": "stream",
     "text": [
      "SMAPE dengan changepoint_prior_scale=0.05, seasonality_prior_scale=0.2, n_changepoints=50, seasonality_mode=multiplicative: 26.16%\n"
     ]
    },
    {
     "name": "stderr",
     "output_type": "stream",
     "text": [
      "10:02:29 - cmdstanpy - INFO - Chain [1] start processing\n",
      "10:02:29 - cmdstanpy - INFO - Chain [1] done processing\n"
     ]
    },
    {
     "name": "stdout",
     "output_type": "stream",
     "text": [
      "SMAPE dengan changepoint_prior_scale=0.05, seasonality_prior_scale=0.5, n_changepoints=20, seasonality_mode=multiplicative: 25.02%\n"
     ]
    },
    {
     "name": "stderr",
     "output_type": "stream",
     "text": [
      "10:02:30 - cmdstanpy - INFO - Chain [1] start processing\n",
      "10:02:30 - cmdstanpy - INFO - Chain [1] done processing\n"
     ]
    },
    {
     "name": "stdout",
     "output_type": "stream",
     "text": [
      "SMAPE dengan changepoint_prior_scale=0.05, seasonality_prior_scale=0.5, n_changepoints=50, seasonality_mode=multiplicative: 25.19%\n"
     ]
    },
    {
     "name": "stderr",
     "output_type": "stream",
     "text": [
      "10:02:31 - cmdstanpy - INFO - Chain [1] start processing\n",
      "10:02:31 - cmdstanpy - INFO - Chain [1] done processing\n"
     ]
    },
    {
     "name": "stdout",
     "output_type": "stream",
     "text": [
      "SMAPE dengan changepoint_prior_scale=0.1, seasonality_prior_scale=0.2, n_changepoints=20, seasonality_mode=multiplicative: 24.36%\n"
     ]
    },
    {
     "name": "stderr",
     "output_type": "stream",
     "text": [
      "10:02:31 - cmdstanpy - INFO - Chain [1] start processing\n",
      "10:02:32 - cmdstanpy - INFO - Chain [1] done processing\n"
     ]
    },
    {
     "name": "stdout",
     "output_type": "stream",
     "text": [
      "SMAPE dengan changepoint_prior_scale=0.1, seasonality_prior_scale=0.2, n_changepoints=50, seasonality_mode=multiplicative: 24.76%\n"
     ]
    },
    {
     "name": "stderr",
     "output_type": "stream",
     "text": [
      "10:02:32 - cmdstanpy - INFO - Chain [1] start processing\n",
      "10:02:33 - cmdstanpy - INFO - Chain [1] done processing\n"
     ]
    },
    {
     "name": "stdout",
     "output_type": "stream",
     "text": [
      "SMAPE dengan changepoint_prior_scale=0.1, seasonality_prior_scale=0.5, n_changepoints=20, seasonality_mode=multiplicative: 28.88%\n"
     ]
    },
    {
     "name": "stderr",
     "output_type": "stream",
     "text": [
      "10:02:33 - cmdstanpy - INFO - Chain [1] start processing\n",
      "10:02:34 - cmdstanpy - INFO - Chain [1] done processing\n"
     ]
    },
    {
     "name": "stdout",
     "output_type": "stream",
     "text": [
      "SMAPE dengan changepoint_prior_scale=0.1, seasonality_prior_scale=0.5, n_changepoints=50, seasonality_mode=multiplicative: 28.46%\n",
      "\n",
      "Parameter terbaik: changepoint_prior_scale=0.1, seasonality_prior_scale=0.2, n_changepoints=20, seasonality_mode=multiplicative\n",
      "SMAPE terbaik: 24.36%\n"
     ]
    },
    {
     "name": "stderr",
     "output_type": "stream",
     "text": [
      "10:02:34 - cmdstanpy - INFO - Chain [1] start processing\n",
      "10:02:35 - cmdstanpy - INFO - Chain [1] done processing\n",
      "10:02:35 - cmdstanpy - INFO - Chain [1] start processing\n",
      "10:02:35 - cmdstanpy - INFO - Chain [1] done processing\n"
     ]
    }
   ],
   "source": [
    "# Fungsi SMAPE\n",
    "def smape(actual, predicted):\n",
    "    return 100 * np.mean(2 * np.abs(predicted - actual) / (np.abs(predicted) + np.abs(actual)))\n",
    "\n",
    "# Data Preparation (Anda bisa menyesuaikan dengan dataset Anda)\n",
    "train_size = int(0.9 * len(OB_TAL))\n",
    "train_data = OB_TAL[:train_size]\n",
    "test_data = OB_TAL[train_size:]\n",
    "\n",
    "# Parameter tuning grid\n",
    "changepoint_prior_scales = [ 0.05,0.1]\n",
    "seasonality_prior_scales = [0.2,0.5 ]\n",
    "n_changepoints = [ 20, 50]\n",
    "seasonality_modes = ['multiplicative']\n",
    "\n",
    "# Kombinasi parameter\n",
    "param_combinations = list(itertools.product(\n",
    "    changepoint_prior_scales,\n",
    "    seasonality_prior_scales,\n",
    "    n_changepoints,\n",
    "    seasonality_modes\n",
    "))\n",
    "\n",
    "# Variabel untuk menyimpan hasil tuning terbaik\n",
    "best_smape = float('inf')\n",
    "best_params = None\n",
    "\n",
    "# Looping untuk setiap kombinasi parameter\n",
    "for changepoint_prior_scale, seasonality_prior_scale, n_changepoints, seasonality_mode in param_combinations:\n",
    "    \n",
    "    # Inisialisasi model Prophet dengan parameter tuning\n",
    "    model = Prophet(\n",
    "        yearly_seasonality=True, \n",
    "        weekly_seasonality=True, \n",
    "        daily_seasonality=True,\n",
    "        seasonality_mode=seasonality_mode,\n",
    "        changepoint_prior_scale=changepoint_prior_scale,\n",
    "        seasonality_prior_scale=seasonality_prior_scale,\n",
    "        growth=\"linear\",\n",
    "        n_changepoints=n_changepoints,\n",
    "        interval_width=0.95\n",
    "\n",
    "    )\n",
    "    \n",
    "    # Menambahkan hari libur dan musiman tambahan jika diperlukan\n",
    "    model.add_country_holidays(country_name='Indonesia')\n",
    "    model.add_seasonality(name='monthly', period=30.5, fourier_order=5)\n",
    "\n",
    "    # Melatih model dengan data train\n",
    "    model.fit(train_data)\n",
    "\n",
    "    # Membuat dataframe masa depan yang mencakup periode data test\n",
    "    future = model.make_future_dataframe(periods=len(test_data), freq='D')\n",
    "\n",
    "    # Melakukan prediksi\n",
    "    forecast = model.predict(future)\n",
    "\n",
    "    # Mengambil prediksi yang sesuai dengan data test\n",
    "    forecast_test = forecast[-len(test_data):]\n",
    "\n",
    "    # Menggabungkan data asli dengan prediksi\n",
    "    test_data.loc[:, 'yhat'] = forecast_test['yhat'].values\n",
    "\n",
    "    # Menghitung SMAPE untuk data test\n",
    "    smape_value = smape(test_data['y'], test_data['yhat'])\n",
    "    \n",
    "    # Output hasil SMAPE\n",
    "    print(f\"SMAPE dengan changepoint_prior_scale={changepoint_prior_scale}, \"\n",
    "          f\"seasonality_prior_scale={seasonality_prior_scale}, n_changepoints={n_changepoints}, \"\n",
    "          f\"seasonality_mode={seasonality_mode}: {smape_value:.2f}%\")\n",
    "\n",
    "    # Menyimpan kombinasi parameter terbaik\n",
    "    if smape_value < best_smape:\n",
    "        best_smape = smape_value\n",
    "        best_params = (changepoint_prior_scale, seasonality_prior_scale, n_changepoints, seasonality_mode)\n",
    "\n",
    "# Menampilkan parameter terbaik\n",
    "print(f\"\\nParameter terbaik: changepoint_prior_scale={best_params[0]}, \"\n",
    "      f\"seasonality_prior_scale={best_params[1]}, n_changepoints={best_params[2]}, \"\n",
    "      f\"seasonality_mode={best_params[3]}\")\n",
    "print(f\"SMAPE terbaik: {best_smape:.2f}%\")\n",
    "\n",
    "# Perform cross-validation on the best model\n",
    "best_model = Prophet(\n",
    "    yearly_seasonality=True,\n",
    "    weekly_seasonality=False,\n",
    "    daily_seasonality=True,\n",
    "    seasonality_mode=best_params[3],\n",
    "    changepoint_prior_scale=best_params[0],\n",
    "    seasonality_prior_scale=best_params[1],\n",
    "    growth=\"linear\",\n",
    "    n_changepoints=best_params[2],\n",
    "    interval_width=0.95\n",
    ")\n",
    "best_model.add_country_holidays(country_name='Indonesia')\n",
    "best_model.add_seasonality(name='monthly', period=30.5, fourier_order=5)\n",
    "best_model.fit(train_data)\n",
    "\n",
    "# Latih model dengan seluruh data menggunakan parameter terbaik\n",
    "final_model = Prophet(\n",
    "    yearly_seasonality=True,\n",
    "    weekly_seasonality=True,\n",
    "    daily_seasonality=True,\n",
    "    seasonality_mode=best_params[3],\n",
    "    changepoint_prior_scale=best_params[0],\n",
    "    seasonality_prior_scale=best_params[1],\n",
    "    growth=\"linear\",\n",
    "    n_changepoints=best_params[2],\n",
    "    interval_width=0.95\n",
    ")\n",
    "final_model.add_country_holidays(country_name='Indonesia')\n",
    "final_model.add_seasonality(name='monthly', period=30.5, fourier_order=5)\n",
    "\n",
    "# Melatih model dengan seluruh data\n",
    "final_model.fit(OB_TAL)\n",
    "\n",
    "# Membuat dataframe masa depan untuk 6 bulan ke depan\n",
    "future = final_model.make_future_dataframe(periods=300, freq='d')\n",
    "\n",
    "# Melakukan prediksi\n",
    "forecast_final = final_model.predict(future)\n",
    "\n",
    "# Menampilkan hasil prediksi\n",
    "# print(forecast_final[['ds', 'yhat', 'yhat_lower', 'yhat_upper']])\n",
    "\n",
    "# Menyimpan hasil prediksi ke dalam DataFrame\n",
    "forecast_all_area_OB_TAL= forecast_final[['ds', 'yhat']]\n",
    "forecast_all_area_OB_TAL.columns = ['Date', 'Forecast']\n"
   ]
  },
  {
   "cell_type": "code",
   "execution_count": 94,
   "metadata": {},
   "outputs": [],
   "source": [
    "# Pastikan kolom 'Date' dalam format datetime\n",
    "forecast_all_area_OB_TAL['Date'] = pd.to_datetime(forecast_all_area_OB_TAL['Date']).dt.date\n",
    "# Menambahkan data untuk 'Forecast'\n",
    "forecast_rows_OB_TAL = pd.DataFrame({\n",
    "    'Tanggal': forecast_all_area_OB_TAL['Date'],\n",
    "    'Tonase': forecast_all_area_OB_TAL['Forecast'].round(3),\n",
    "    'Jenis': 'Forecast',\n",
    "    'Kategori' : \"Overburden\",\n",
    "    'Loc Src Area Name' : 'TAL'\n",
    "})\n",
    "\n",
    "df_temp_OB_TAL = pd.DataFrame({\n",
    "    'Tanggal': pd.to_datetime(OB_TAL['ds']).dt.date,\n",
    "    'Tonase': OB_TAL['y'].round(3),\n",
    "    'Jenis': 'Actual',\n",
    "    'Kategori' : \"Overburden\",\n",
    "    'Loc Src Area Name' : 'TAL'\n",
    "})\n",
    "from datetime import datetime\n",
    "current_time = datetime.today().date()\n",
    "best_smape_rounded = round(best_smape, 3)\n",
    "smape_all_OB_TAL = pd.DataFrame({\n",
    "    'Tanggal' : current_time,\n",
    "    'Tonase' : [best_smape_rounded],\n",
    "    'Jenis' :['Smape'],\n",
    "    'Kategori' : \"Overburden\",\n",
    "    'Loc Src Area Name' : ['TAL']\n",
    "})\n",
    "\n",
    "# Menggabungkan semua DataFrame\n",
    "result_df_OB_TAL = pd.concat([df_temp_OB_TAL,forecast_rows_OB_TAL, smape_all_OB_TAL], ignore_index=True)\n",
    "# result_df_OB_TAL\n"
   ]
  },
  {
   "cell_type": "code",
   "execution_count": 95,
   "metadata": {},
   "outputs": [],
   "source": [
    "# Banko Barat\n",
    "\n",
    "df_temp_OB_BB = df_temp_OB_real[df_temp_OB_real['Loc Src Area Name']=='Banko Barat']"
   ]
  },
  {
   "cell_type": "code",
   "execution_count": 96,
   "metadata": {},
   "outputs": [],
   "source": [
    "df_temp_OB_BB = df_temp_OB_BB.groupby(['Tanggal'])['Tonase'].sum().reset_index()"
   ]
  },
  {
   "cell_type": "code",
   "execution_count": 97,
   "metadata": {},
   "outputs": [],
   "source": [
    "df_temp_OB_BB['Tanggal'] = pd.to_datetime(df_temp_OB_BB['Tanggal'])"
   ]
  },
  {
   "cell_type": "code",
   "execution_count": 98,
   "metadata": {},
   "outputs": [],
   "source": [
    "# Data yang diambil dari tanggl 1 januari 2020 (Sesuai Kesepakatan dengan Pihak PTBA)\n",
    "df_prep_Date_BB_OB = df_temp_OB_BB[df_temp_OB_BB['Tanggal'] >= '2020-01-01']"
   ]
  },
  {
   "cell_type": "code",
   "execution_count": 99,
   "metadata": {},
   "outputs": [],
   "source": [
    "# reset index\n",
    "df_prep_Date_index_BB_OB = df_prep_Date_BB_OB.reset_index().sort_values(by=['Tanggal'])\n",
    "df_prep_Date_index_BB_OB = df_prep_Date_index_BB_OB[['Tanggal','Tonase']]\n"
   ]
  },
  {
   "cell_type": "code",
   "execution_count": 100,
   "metadata": {},
   "outputs": [],
   "source": [
    "# Tidak Menyertakan Nilai 0 Dan null\n",
    "OB_BB =  df_prep_Date_index_BB_OB[df_prep_Date_index_BB_OB['Tonase'] != 0].reset_index(drop=True).sort_values(by = ['Tanggal'])"
   ]
  },
  {
   "cell_type": "code",
   "execution_count": 101,
   "metadata": {},
   "outputs": [],
   "source": [
    "OB_BB.columns=['ds','y']"
   ]
  },
  {
   "cell_type": "code",
   "execution_count": 102,
   "metadata": {},
   "outputs": [
    {
     "name": "stderr",
     "output_type": "stream",
     "text": [
      "10:02:36 - cmdstanpy - INFO - Chain [1] start processing\n",
      "10:02:36 - cmdstanpy - INFO - Chain [1] done processing\n"
     ]
    },
    {
     "name": "stdout",
     "output_type": "stream",
     "text": [
      "SMAPE dengan changepoint_prior_scale=1, seasonality_prior_scale=0.5, n_changepoints=50, seasonality_mode=additive: 19.42%\n"
     ]
    },
    {
     "name": "stderr",
     "output_type": "stream",
     "text": [
      "10:02:37 - cmdstanpy - INFO - Chain [1] start processing\n",
      "10:02:37 - cmdstanpy - INFO - Chain [1] done processing\n"
     ]
    },
    {
     "name": "stdout",
     "output_type": "stream",
     "text": [
      "SMAPE dengan changepoint_prior_scale=1, seasonality_prior_scale=0.5, n_changepoints=100, seasonality_mode=additive: 19.42%\n"
     ]
    },
    {
     "name": "stderr",
     "output_type": "stream",
     "text": [
      "10:02:37 - cmdstanpy - INFO - Chain [1] start processing\n",
      "10:02:38 - cmdstanpy - INFO - Chain [1] done processing\n"
     ]
    },
    {
     "name": "stdout",
     "output_type": "stream",
     "text": [
      "SMAPE dengan changepoint_prior_scale=1, seasonality_prior_scale=1, n_changepoints=50, seasonality_mode=additive: 19.42%\n"
     ]
    },
    {
     "name": "stderr",
     "output_type": "stream",
     "text": [
      "10:02:38 - cmdstanpy - INFO - Chain [1] start processing\n",
      "10:02:38 - cmdstanpy - INFO - Chain [1] done processing\n"
     ]
    },
    {
     "name": "stdout",
     "output_type": "stream",
     "text": [
      "SMAPE dengan changepoint_prior_scale=1, seasonality_prior_scale=1, n_changepoints=100, seasonality_mode=additive: 19.42%\n"
     ]
    },
    {
     "name": "stderr",
     "output_type": "stream",
     "text": [
      "10:02:39 - cmdstanpy - INFO - Chain [1] start processing\n",
      "10:02:39 - cmdstanpy - INFO - Chain [1] done processing\n"
     ]
    },
    {
     "name": "stdout",
     "output_type": "stream",
     "text": [
      "SMAPE dengan changepoint_prior_scale=2, seasonality_prior_scale=0.5, n_changepoints=50, seasonality_mode=additive: 19.42%\n"
     ]
    },
    {
     "name": "stderr",
     "output_type": "stream",
     "text": [
      "10:02:39 - cmdstanpy - INFO - Chain [1] start processing\n",
      "10:02:39 - cmdstanpy - INFO - Chain [1] done processing\n"
     ]
    },
    {
     "name": "stdout",
     "output_type": "stream",
     "text": [
      "SMAPE dengan changepoint_prior_scale=2, seasonality_prior_scale=0.5, n_changepoints=100, seasonality_mode=additive: 19.42%\n"
     ]
    },
    {
     "name": "stderr",
     "output_type": "stream",
     "text": [
      "10:02:40 - cmdstanpy - INFO - Chain [1] start processing\n",
      "10:02:40 - cmdstanpy - INFO - Chain [1] done processing\n"
     ]
    },
    {
     "name": "stdout",
     "output_type": "stream",
     "text": [
      "SMAPE dengan changepoint_prior_scale=2, seasonality_prior_scale=1, n_changepoints=50, seasonality_mode=additive: 19.42%\n"
     ]
    },
    {
     "name": "stderr",
     "output_type": "stream",
     "text": [
      "10:02:40 - cmdstanpy - INFO - Chain [1] start processing\n",
      "10:02:41 - cmdstanpy - INFO - Chain [1] done processing\n"
     ]
    },
    {
     "name": "stdout",
     "output_type": "stream",
     "text": [
      "SMAPE dengan changepoint_prior_scale=2, seasonality_prior_scale=1, n_changepoints=100, seasonality_mode=additive: 19.42%\n",
      "\n",
      "Parameter terbaik: changepoint_prior_scale=1, seasonality_prior_scale=1, n_changepoints=100, seasonality_mode=additive\n",
      "SMAPE terbaik: 19.42%\n"
     ]
    },
    {
     "name": "stderr",
     "output_type": "stream",
     "text": [
      "10:02:41 - cmdstanpy - INFO - Chain [1] start processing\n",
      "10:02:41 - cmdstanpy - INFO - Chain [1] done processing\n",
      "10:02:41 - cmdstanpy - INFO - Chain [1] start processing\n",
      "10:02:42 - cmdstanpy - INFO - Chain [1] done processing\n"
     ]
    }
   ],
   "source": [
    "# Fungsi SMAPE\n",
    "def smape(actual, predicted):\n",
    "    return 100 * np.mean(2 * np.abs(predicted - actual) / (np.abs(predicted) + np.abs(actual)))\n",
    "\n",
    "# Data Preparation (Anda bisa menyesuaikan dengan dataset Anda)\n",
    "train_size = int(0.9 * len(OB_BB))\n",
    "train_data = OB_BB[:train_size]\n",
    "test_data = OB_BB[train_size:]\n",
    "\n",
    "# Parameter tuning grid\n",
    "changepoint_prior_scales = [ 1, 2]\n",
    "seasonality_prior_scales = [0.5, 1]\n",
    "n_changepoints = [ 50,100]\n",
    "seasonality_modes = ['additive']\n",
    "\n",
    "# Kombinasi parameter\n",
    "param_combinations = list(itertools.product(\n",
    "    changepoint_prior_scales,\n",
    "    seasonality_prior_scales,\n",
    "    n_changepoints,\n",
    "    seasonality_modes\n",
    "))\n",
    "\n",
    "# Variabel untuk menyimpan hasil tuning terbaik\n",
    "best_smape = float('inf')\n",
    "best_params = None\n",
    "\n",
    "# Looping untuk setiap kombinasi parameter\n",
    "for changepoint_prior_scale, seasonality_prior_scale, n_changepoints, seasonality_mode in param_combinations:\n",
    "    \n",
    "    # Inisialisasi model Prophet dengan parameter tuning\n",
    "    model = Prophet(\n",
    "        yearly_seasonality=True, \n",
    "        weekly_seasonality=True, \n",
    "        daily_seasonality=True,\n",
    "        seasonality_mode=seasonality_mode,\n",
    "        changepoint_prior_scale=changepoint_prior_scale,\n",
    "        seasonality_prior_scale=seasonality_prior_scale,\n",
    "        growth=\"flat\",\n",
    "        n_changepoints=n_changepoints,\n",
    "        interval_width=0.95\n",
    "\n",
    "    )\n",
    "    \n",
    "    # Menambahkan hari libur dan musiman tambahan jika diperlukan\n",
    "    model.add_country_holidays(country_name='Indonesia')\n",
    "    model.add_seasonality(name='monthly', period=30.5, fourier_order=5)\n",
    "\n",
    "    # Melatih model dengan data train\n",
    "    model.fit(train_data)\n",
    "\n",
    "    # Membuat dataframe masa depan yang mencakup periode data test\n",
    "    future = model.make_future_dataframe(periods=len(test_data), freq='D')\n",
    "\n",
    "    # Melakukan prediksi\n",
    "    forecast = model.predict(future)\n",
    "\n",
    "    # Mengambil prediksi yang sesuai dengan data test\n",
    "    forecast_test = forecast[-len(test_data):]\n",
    "\n",
    "    # Menggabungkan data asli dengan prediksi\n",
    "    test_data.loc[:, 'yhat'] = forecast_test['yhat'].values\n",
    "\n",
    "    # Menghitung SMAPE untuk data test\n",
    "    smape_value = smape(test_data['y'], test_data['yhat'])\n",
    "    \n",
    "    # Output hasil SMAPE\n",
    "    print(f\"SMAPE dengan changepoint_prior_scale={changepoint_prior_scale}, \"\n",
    "          f\"seasonality_prior_scale={seasonality_prior_scale}, n_changepoints={n_changepoints}, \"\n",
    "          f\"seasonality_mode={seasonality_mode}: {smape_value:.2f}%\")\n",
    "\n",
    "    # Menyimpan kombinasi parameter terbaik\n",
    "    if smape_value < best_smape:\n",
    "        best_smape = smape_value\n",
    "        best_params = (changepoint_prior_scale, seasonality_prior_scale, n_changepoints, seasonality_mode)\n",
    "\n",
    "# Menampilkan parameter terbaik\n",
    "print(f\"\\nParameter terbaik: changepoint_prior_scale={best_params[0]}, \"\n",
    "      f\"seasonality_prior_scale={best_params[1]}, n_changepoints={best_params[2]}, \"\n",
    "      f\"seasonality_mode={best_params[3]}\")\n",
    "print(f\"SMAPE terbaik: {best_smape:.2f}%\")\n",
    "\n",
    "# Perform cross-validation on the best model\n",
    "best_model = Prophet(\n",
    "    yearly_seasonality=True,\n",
    "    weekly_seasonality=False,\n",
    "    daily_seasonality=True,\n",
    "    seasonality_mode=best_params[3],\n",
    "    changepoint_prior_scale=best_params[0],\n",
    "    seasonality_prior_scale=best_params[1],\n",
    "    growth=\"flat\",\n",
    "    n_changepoints=best_params[2],\n",
    "    interval_width=0.95\n",
    ")\n",
    "best_model.add_country_holidays(country_name='Indonesia')\n",
    "best_model.add_seasonality(name='monthly', period=30.5, fourier_order=5)\n",
    "best_model.fit(train_data)\n",
    "\n",
    "# Latih model dengan seluruh data menggunakan parameter terbaik\n",
    "final_model = Prophet(\n",
    "    yearly_seasonality=True,\n",
    "    weekly_seasonality=True,\n",
    "    daily_seasonality=True,\n",
    "    seasonality_mode=best_params[3],\n",
    "    changepoint_prior_scale=best_params[0],\n",
    "    seasonality_prior_scale=best_params[1],\n",
    "    growth=\"flat\",\n",
    "    n_changepoints=best_params[2],\n",
    "    interval_width=0.95\n",
    ")\n",
    "final_model.add_country_holidays(country_name='Indonesia')\n",
    "final_model.add_seasonality(name='monthly', period=30.5, fourier_order=5)\n",
    "\n",
    "# Melatih model dengan seluruh data\n",
    "final_model.fit(OB_BB)\n",
    "\n",
    "# Membuat dataframe masa depan untuk 6 bulan ke depan\n",
    "future = final_model.make_future_dataframe(periods=300, freq='d')\n",
    "\n",
    "# Melakukan prediksi\n",
    "forecast_final = final_model.predict(future)\n",
    "\n",
    "# Menampilkan hasil prediksi\n",
    "# print(forecast_final[['ds', 'yhat', 'yhat_lower', 'yhat_upper']])\n",
    "\n",
    "# Menyimpan hasil prediksi ke dalam DataFrame\n",
    "forecast_all_area_OB_BB= forecast_final[['ds', 'yhat']]\n",
    "forecast_all_area_OB_BB.columns = ['Date', 'Forecast']"
   ]
  },
  {
   "cell_type": "code",
   "execution_count": 103,
   "metadata": {},
   "outputs": [],
   "source": [
    "# Pastikan kolom 'Date' dalam format datetime\n",
    "forecast_all_area_OB_BB['Date'] = pd.to_datetime(forecast_all_area_OB_BB['Date']).dt.date\n",
    "# Menambahkan data untuk 'Forecast'\n",
    "forecast_rows_OB_BB = pd.DataFrame({\n",
    "    'Tanggal': forecast_all_area_OB_BB['Date'],\n",
    "    'Tonase': forecast_all_area_OB_BB['Forecast'].round(3),\n",
    "    'Jenis': 'Forecast',\n",
    "    'Kategori' :  'Overburden',\n",
    "    'Loc Src Area Name' : 'Banko Barat'\n",
    "})\n",
    "\n",
    "df_temp_OB_BB = pd.DataFrame({\n",
    "    'Tanggal': pd.to_datetime(OB_BB['ds']).dt.date,\n",
    "    'Tonase': OB_BB['y'].round(3),\n",
    "    'Jenis': 'Actual',\n",
    "    'Kategori' :  'Overburden',\n",
    "    'Loc Src Area Name' : 'Banko Barat'\n",
    "})\n",
    "from datetime import datetime\n",
    "current_time = datetime.today().date()\n",
    "best_smape_rounded = round(best_smape, 3)\n",
    "smape_all_OB_BB = pd.DataFrame({\n",
    "    'Tanggal' : current_time,\n",
    "    'Tonase' : [best_smape_rounded],\n",
    "    'Jenis' :['Smape'],\n",
    "    'Kategori': ['Overburden'],\n",
    "    'Loc Src Area Name' : ['Banko Barat']\n",
    "})\n",
    "\n",
    "# Menggabungkan semua DataFrame\n",
    "result_df_OB_BB = pd.concat([df_temp_OB_BB,forecast_rows_OB_BB, smape_all_OB_BB], ignore_index=True)\n",
    "# result_df_OB_BB\n"
   ]
  },
  {
   "cell_type": "code",
   "execution_count": 104,
   "metadata": {},
   "outputs": [],
   "source": [
    "# Banko Barat\n",
    "df_temp_OB_BT = df_temp_OB_real[df_temp_OB_real['Loc Src Area Name']=='Banko Tengah']"
   ]
  },
  {
   "cell_type": "code",
   "execution_count": 105,
   "metadata": {},
   "outputs": [],
   "source": [
    "df_temp_OB_BT = df_temp_OB_BT.groupby(['Tanggal'])['Tonase'].sum().reset_index()"
   ]
  },
  {
   "cell_type": "code",
   "execution_count": 106,
   "metadata": {},
   "outputs": [],
   "source": [
    "df_temp_OB_BT['Tanggal'] = pd.to_datetime(df_temp_OB_BT['Tanggal'])"
   ]
  },
  {
   "cell_type": "code",
   "execution_count": 107,
   "metadata": {},
   "outputs": [],
   "source": [
    "# # Data yang diambil dari tanggl 1 januari 2020 (Sesuai Kesepakatan dengan Pihak PTBA)\n",
    "df_prep_Date_BT_OB = df_temp_OB_BT[df_temp_OB_BT['Tanggal'] >= '2020-01-01']"
   ]
  },
  {
   "cell_type": "code",
   "execution_count": 108,
   "metadata": {},
   "outputs": [],
   "source": [
    "# reset index\n",
    "df_prep_Date_index_BT_OB = df_prep_Date_BT_OB.reset_index().sort_values(by=['Tanggal'])\n",
    "df_prep_Date_index_BT_OB = df_prep_Date_index_BT_OB[['Tanggal','Tonase']]"
   ]
  },
  {
   "cell_type": "code",
   "execution_count": 109,
   "metadata": {},
   "outputs": [],
   "source": [
    "# Tidak Menyertakan Nilai 0 Dan null\n",
    "OB_BT =  df_prep_Date_index_BT_OB[df_prep_Date_index_BT_OB['Tonase'] != 0].reset_index(drop=True).sort_values(by = ['Tanggal'])"
   ]
  },
  {
   "cell_type": "code",
   "execution_count": 110,
   "metadata": {},
   "outputs": [],
   "source": [
    "OB_BT.columns=['ds','y']"
   ]
  },
  {
   "cell_type": "code",
   "execution_count": 111,
   "metadata": {},
   "outputs": [
    {
     "name": "stderr",
     "output_type": "stream",
     "text": [
      "10:02:42 - cmdstanpy - INFO - Chain [1] start processing\n",
      "10:02:43 - cmdstanpy - INFO - Chain [1] done processing\n"
     ]
    },
    {
     "name": "stdout",
     "output_type": "stream",
     "text": [
      "SMAPE dengan changepoint_prior_scale=0.5, seasonality_prior_scale=0.5, n_changepoints=50, seasonality_mode=multiplicative: 31.98%\n"
     ]
    },
    {
     "name": "stderr",
     "output_type": "stream",
     "text": [
      "10:02:43 - cmdstanpy - INFO - Chain [1] start processing\n",
      "10:02:44 - cmdstanpy - INFO - Chain [1] done processing\n",
      "10:02:44 - cmdstanpy - INFO - Chain [1] start processing\n"
     ]
    },
    {
     "name": "stdout",
     "output_type": "stream",
     "text": [
      "SMAPE dengan changepoint_prior_scale=0.5, seasonality_prior_scale=0.5, n_changepoints=100, seasonality_mode=multiplicative: 27.97%\n"
     ]
    },
    {
     "name": "stderr",
     "output_type": "stream",
     "text": [
      "10:02:45 - cmdstanpy - INFO - Chain [1] done processing\n",
      "10:02:45 - cmdstanpy - INFO - Chain [1] start processing\n"
     ]
    },
    {
     "name": "stdout",
     "output_type": "stream",
     "text": [
      "SMAPE dengan changepoint_prior_scale=0.5, seasonality_prior_scale=1, n_changepoints=50, seasonality_mode=multiplicative: 25.05%\n"
     ]
    },
    {
     "name": "stderr",
     "output_type": "stream",
     "text": [
      "10:02:46 - cmdstanpy - INFO - Chain [1] done processing\n"
     ]
    },
    {
     "name": "stdout",
     "output_type": "stream",
     "text": [
      "SMAPE dengan changepoint_prior_scale=0.5, seasonality_prior_scale=1, n_changepoints=100, seasonality_mode=multiplicative: 25.52%\n"
     ]
    },
    {
     "name": "stderr",
     "output_type": "stream",
     "text": [
      "10:02:47 - cmdstanpy - INFO - Chain [1] start processing\n",
      "10:02:47 - cmdstanpy - INFO - Chain [1] done processing\n",
      "10:02:48 - cmdstanpy - INFO - Chain [1] start processing\n"
     ]
    },
    {
     "name": "stdout",
     "output_type": "stream",
     "text": [
      "SMAPE dengan changepoint_prior_scale=1, seasonality_prior_scale=0.5, n_changepoints=50, seasonality_mode=multiplicative: 20.95%\n"
     ]
    },
    {
     "name": "stderr",
     "output_type": "stream",
     "text": [
      "10:02:49 - cmdstanpy - INFO - Chain [1] done processing\n"
     ]
    },
    {
     "name": "stdout",
     "output_type": "stream",
     "text": [
      "SMAPE dengan changepoint_prior_scale=1, seasonality_prior_scale=0.5, n_changepoints=100, seasonality_mode=multiplicative: 21.57%\n"
     ]
    },
    {
     "name": "stderr",
     "output_type": "stream",
     "text": [
      "10:02:49 - cmdstanpy - INFO - Chain [1] start processing\n",
      "10:02:50 - cmdstanpy - INFO - Chain [1] done processing\n",
      "10:02:51 - cmdstanpy - INFO - Chain [1] start processing\n"
     ]
    },
    {
     "name": "stdout",
     "output_type": "stream",
     "text": [
      "SMAPE dengan changepoint_prior_scale=1, seasonality_prior_scale=1, n_changepoints=50, seasonality_mode=multiplicative: 19.51%\n"
     ]
    },
    {
     "name": "stderr",
     "output_type": "stream",
     "text": [
      "10:02:53 - cmdstanpy - INFO - Chain [1] done processing\n"
     ]
    },
    {
     "name": "stdout",
     "output_type": "stream",
     "text": [
      "SMAPE dengan changepoint_prior_scale=1, seasonality_prior_scale=1, n_changepoints=100, seasonality_mode=multiplicative: 20.68%\n",
      "\n",
      "Parameter terbaik: changepoint_prior_scale=1, seasonality_prior_scale=1, n_changepoints=50, seasonality_mode=multiplicative\n",
      "SMAPE terbaik: 19.51%\n"
     ]
    },
    {
     "name": "stderr",
     "output_type": "stream",
     "text": [
      "10:02:53 - cmdstanpy - INFO - Chain [1] start processing\n",
      "10:02:54 - cmdstanpy - INFO - Chain [1] done processing\n",
      "10:02:54 - cmdstanpy - INFO - Chain [1] start processing\n",
      "10:02:55 - cmdstanpy - INFO - Chain [1] done processing\n"
     ]
    }
   ],
   "source": [
    "# Fungsi SMAPE\n",
    "def smape(actual, predicted):\n",
    "    return 100 * np.mean(2 * np.abs(predicted - actual) / (np.abs(predicted) + np.abs(actual)))\n",
    "\n",
    "# Data Preparation (Anda bisa menyesuaikan dengan dataset Anda)\n",
    "train_size = int(0.9 * len(OB_BT))\n",
    "train_data = OB_BT[:train_size]\n",
    "test_data = OB_BT[train_size:]\n",
    "\n",
    "# Parameter tuning grid\n",
    "changepoint_prior_scales = [ 0.5, 1]\n",
    "seasonality_prior_scales = [0.5, 1]\n",
    "n_changepoints = [ 50,100]\n",
    "seasonality_modes = ['multiplicative']\n",
    "\n",
    "# Kombinasi parameter\n",
    "param_combinations = list(itertools.product(\n",
    "    changepoint_prior_scales,\n",
    "    seasonality_prior_scales,\n",
    "    n_changepoints,\n",
    "    seasonality_modes\n",
    "))\n",
    "\n",
    "# Variabel untuk menyimpan hasil tuning terbaik\n",
    "best_smape = float('inf')\n",
    "best_params = None\n",
    "\n",
    "# Looping untuk setiap kombinasi parameter\n",
    "for changepoint_prior_scale, seasonality_prior_scale, n_changepoints, seasonality_mode in param_combinations:\n",
    "    \n",
    "    # Inisialisasi model Prophet dengan parameter tuning\n",
    "    model = Prophet(\n",
    "        yearly_seasonality=True, \n",
    "        weekly_seasonality=True, \n",
    "        daily_seasonality=True,\n",
    "        seasonality_mode=seasonality_mode,\n",
    "        changepoint_prior_scale=changepoint_prior_scale,\n",
    "        seasonality_prior_scale=seasonality_prior_scale,\n",
    "        growth=\"linear\",\n",
    "        n_changepoints=n_changepoints,\n",
    "        interval_width=0.95\n",
    "    )\n",
    "    \n",
    "    # Menambahkan hari libur dan musiman tambahan jika diperlukan\n",
    "    model.add_country_holidays(country_name='Indonesia')\n",
    "    model.add_seasonality(name='monthly', period=30.5, fourier_order=5)\n",
    "\n",
    "    # Melatih model dengan data train\n",
    "    model.fit(train_data)\n",
    "\n",
    "    # Membuat dataframe masa depan yang mencakup periode data test\n",
    "    future = model.make_future_dataframe(periods=len(test_data), freq='D')\n",
    "\n",
    "    # Melakukan prediksi\n",
    "    forecast = model.predict(future)\n",
    "\n",
    "    # Mengambil prediksi yang sesuai dengan data test\n",
    "    forecast_test = forecast[-len(test_data):]\n",
    "\n",
    "    # Menggabungkan data asli dengan prediksi\n",
    "    test_data.loc[:, 'yhat'] = forecast_test['yhat'].values\n",
    "\n",
    "    # Menghitung SMAPE untuk data test\n",
    "    smape_value = smape(test_data['y'], test_data['yhat'])\n",
    "    \n",
    "    # Output hasil SMAPE\n",
    "    print(f\"SMAPE dengan changepoint_prior_scale={changepoint_prior_scale}, \"\n",
    "          f\"seasonality_prior_scale={seasonality_prior_scale}, n_changepoints={n_changepoints}, \"\n",
    "          f\"seasonality_mode={seasonality_mode}: {smape_value:.2f}%\")\n",
    "\n",
    "    # Menyimpan kombinasi parameter terbaik\n",
    "    if smape_value < best_smape:\n",
    "        best_smape = smape_value\n",
    "        best_params = (changepoint_prior_scale, seasonality_prior_scale, n_changepoints, seasonality_mode)\n",
    "\n",
    "# Menampilkan parameter terbaik\n",
    "print(f\"\\nParameter terbaik: changepoint_prior_scale={best_params[0]}, \"\n",
    "      f\"seasonality_prior_scale={best_params[1]}, n_changepoints={best_params[2]}, \"\n",
    "      f\"seasonality_mode={best_params[3]}\")\n",
    "print(f\"SMAPE terbaik: {best_smape:.2f}%\")\n",
    "\n",
    "# Perform cross-validation on the best model\n",
    "best_model = Prophet(\n",
    "    yearly_seasonality=True,\n",
    "    weekly_seasonality=False,\n",
    "    daily_seasonality=True,\n",
    "    seasonality_mode=best_params[3],\n",
    "    changepoint_prior_scale=best_params[0],\n",
    "    seasonality_prior_scale=best_params[1],\n",
    "    growth=\"linear\",\n",
    "    n_changepoints=best_params[2],\n",
    "    interval_width=0.95\n",
    ")\n",
    "best_model.add_country_holidays(country_name='Indonesia')\n",
    "best_model.add_seasonality(name='monthly', period=30.5, fourier_order=5)\n",
    "best_model.fit(train_data)\n",
    "\n",
    "# Latih model dengan seluruh data menggunakan parameter terbaik\n",
    "final_model = Prophet(\n",
    "    yearly_seasonality=True,\n",
    "    weekly_seasonality=True,\n",
    "    daily_seasonality=True,\n",
    "    seasonality_mode=best_params[3],\n",
    "    changepoint_prior_scale=best_params[0],\n",
    "    seasonality_prior_scale=best_params[1],\n",
    "    growth=\"linear\",\n",
    "    n_changepoints=best_params[2],\n",
    "    interval_width=0.95\n",
    ")\n",
    "final_model.add_country_holidays(country_name='Indonesia')\n",
    "final_model.add_seasonality(name='monthly', period=30.5, fourier_order=5)\n",
    "\n",
    "# Melatih model dengan seluruh data\n",
    "final_model.fit(OB_BT)\n",
    "\n",
    "# Membuat dataframe masa depan untuk 6 bulan ke depan\n",
    "future = final_model.make_future_dataframe(periods=300, freq='d')\n",
    "\n",
    "# Melakukan prediksi\n",
    "forecast_final = final_model.predict(future)\n",
    "\n",
    "# Menampilkan hasil prediksi\n",
    "# print(forecast_final[['ds', 'yhat', 'yhat_lower', 'yhat_upper']])\n",
    "\n",
    "# Menyimpan hasil prediksi ke dalam DataFrame\n",
    "forecast_all_area_OB_BT= forecast_final[['ds', 'yhat']]\n",
    "forecast_all_area_OB_BT.columns = ['Date', 'Forecast']"
   ]
  },
  {
   "cell_type": "code",
   "execution_count": 112,
   "metadata": {},
   "outputs": [],
   "source": [
    "# Pastikan kolom 'Date' dalam format datetime\n",
    "forecast_all_area_OB_BT['Date'] = pd.to_datetime(forecast_all_area_OB_BT['Date']).dt.date\n",
    "# Menambahkan data untuk 'Forecast'\n",
    "forecast_rows_OB_BT = pd.DataFrame({\n",
    "    'Tanggal': forecast_all_area_OB_BT['Date'],\n",
    "    'Tonase': forecast_all_area_OB_BT['Forecast'].round(3),\n",
    "    'Jenis': 'Forecast',\n",
    "    'Kategori' : \"Overburden\",\n",
    "    'Loc Src Area Name' : 'Banko Tengah'\n",
    "})\n",
    "\n",
    "df_temp_OB_BT = pd.DataFrame({\n",
    "    'Tanggal': pd.to_datetime(OB_BT['ds']).dt.date,\n",
    "    'Tonase': OB_BT['y'].round(3),\n",
    "    'Jenis': 'Actual',\n",
    "    'Kategori' : \"Overburden\",\n",
    "    'Loc Src Area Name' : 'Banko Tengah'\n",
    "})\n",
    "from datetime import datetime\n",
    "current_time = datetime.today().date()\n",
    "best_smape_rounded = round(best_smape, 3)\n",
    "smape_all_OB_BT = pd.DataFrame({\n",
    "    'Tanggal' : current_time,\n",
    "    'Tonase' : [best_smape_rounded],\n",
    "    'Jenis' :['Smape'],\n",
    "    'Kategori' : [\"Overburden\"],\n",
    "    'Loc Src Area Name' : ['Banko Tengah']\n",
    "})\n",
    "\n",
    "# Menggabungkan semua DataFrame\n",
    "result_df_OB_BT = pd.concat([df_temp_OB_BT,forecast_rows_OB_BT, smape_all_OB_BT], ignore_index=True)\n",
    "# result_df_OB_BT\n"
   ]
  },
  {
   "cell_type": "code",
   "execution_count": 113,
   "metadata": {},
   "outputs": [],
   "source": [
    "df_temp_OB_nonreal = df[df['Jenis'].isin(['Plan'])]\n",
    "df_temp_OB_nonreal = df_temp_OB_nonreal[df_temp_OB_nonreal['Product Type Name'].isin(['Waste'])]\n",
    "# df_temp_OB_nonreal\n",
    "df_temp_OB_nonreal = df_temp_OB_nonreal[df_temp_OB_nonreal['Tanggal'] >= '2020-01-01']\n",
    "# df_temp_OB_nonreal\n",
    "df_temp_plan =  df_temp_OB_nonreal[['Tanggal','Tonase','Jenis','Loc Src Area Name']]\n",
    "# df_temp_plan\n",
    "df_temp_all_area_plan = df_temp_plan.groupby(['Tanggal'])['Tonase'].sum().reset_index()\n",
    "# df_temp_all_area_plan\n",
    "df_Plan_all_OB = pd.DataFrame({\n",
    "    'Tanggal': pd.to_datetime(df_temp_all_area_plan['Tanggal']).dt.date,\n",
    "    'Tonase': df_temp_all_area_plan['Tonase'].round(3),\n",
    "    'Jenis': 'Plan',\n",
    "    'Kategori' : 'Overburden',\n",
    "    'Loc Src Area Name' : 'All Area'\n",
    "})\n",
    "df_Plan_OB = pd.DataFrame({\n",
    "    'Tanggal': pd.to_datetime(df_temp_plan['Tanggal']).dt.date,\n",
    "    'Tonase': df_temp_plan['Tonase'].round(3),\n",
    "    'Jenis': df_temp_plan['Jenis'],\n",
    "    'Kategori' : 'Overburden',\n",
    "    'Loc Src Area Name' : df_temp_plan['Loc Src Area Name']\n",
    "})"
   ]
  },
  {
   "cell_type": "code",
   "execution_count": 114,
   "metadata": {},
   "outputs": [
    {
     "data": {
      "text/html": [
       "<div>\n",
       "<style scoped>\n",
       "    .dataframe tbody tr th:only-of-type {\n",
       "        vertical-align: middle;\n",
       "    }\n",
       "\n",
       "    .dataframe tbody tr th {\n",
       "        vertical-align: top;\n",
       "    }\n",
       "\n",
       "    .dataframe thead th {\n",
       "        text-align: right;\n",
       "    }\n",
       "</style>\n",
       "<table border=\"1\" class=\"dataframe\">\n",
       "  <thead>\n",
       "    <tr style=\"text-align: right;\">\n",
       "      <th></th>\n",
       "      <th>Tanggal</th>\n",
       "      <th>Tonase</th>\n",
       "      <th>Jenis</th>\n",
       "      <th>Kategori</th>\n",
       "      <th>Loc Src Area Name</th>\n",
       "    </tr>\n",
       "  </thead>\n",
       "  <tbody>\n",
       "    <tr>\n",
       "      <th>0</th>\n",
       "      <td>2020-01-01</td>\n",
       "      <td>24284.683</td>\n",
       "      <td>Actual</td>\n",
       "      <td>Coal</td>\n",
       "      <td>All Area</td>\n",
       "    </tr>\n",
       "    <tr>\n",
       "      <th>1</th>\n",
       "      <td>2020-01-02</td>\n",
       "      <td>59932.859</td>\n",
       "      <td>Actual</td>\n",
       "      <td>Coal</td>\n",
       "      <td>All Area</td>\n",
       "    </tr>\n",
       "    <tr>\n",
       "      <th>2</th>\n",
       "      <td>2020-01-03</td>\n",
       "      <td>46403.077</td>\n",
       "      <td>Actual</td>\n",
       "      <td>Coal</td>\n",
       "      <td>All Area</td>\n",
       "    </tr>\n",
       "    <tr>\n",
       "      <th>3</th>\n",
       "      <td>2020-01-04</td>\n",
       "      <td>68253.579</td>\n",
       "      <td>Actual</td>\n",
       "      <td>Coal</td>\n",
       "      <td>All Area</td>\n",
       "    </tr>\n",
       "    <tr>\n",
       "      <th>4</th>\n",
       "      <td>2020-01-05</td>\n",
       "      <td>51894.829</td>\n",
       "      <td>Actual</td>\n",
       "      <td>Coal</td>\n",
       "      <td>All Area</td>\n",
       "    </tr>\n",
       "    <tr>\n",
       "      <th>...</th>\n",
       "      <td>...</td>\n",
       "      <td>...</td>\n",
       "      <td>...</td>\n",
       "      <td>...</td>\n",
       "      <td>...</td>\n",
       "    </tr>\n",
       "    <tr>\n",
       "      <th>254026</th>\n",
       "      <td>2022-09-02</td>\n",
       "      <td>33333.333</td>\n",
       "      <td>Plan</td>\n",
       "      <td>Overburden</td>\n",
       "      <td>TAL</td>\n",
       "    </tr>\n",
       "    <tr>\n",
       "      <th>254043</th>\n",
       "      <td>2023-01-26</td>\n",
       "      <td>11612.903</td>\n",
       "      <td>Plan</td>\n",
       "      <td>Overburden</td>\n",
       "      <td>Banko Barat</td>\n",
       "    </tr>\n",
       "    <tr>\n",
       "      <th>254054</th>\n",
       "      <td>2021-10-19</td>\n",
       "      <td>40967.742</td>\n",
       "      <td>Plan</td>\n",
       "      <td>Overburden</td>\n",
       "      <td>Banko Barat</td>\n",
       "    </tr>\n",
       "    <tr>\n",
       "      <th>254060</th>\n",
       "      <td>2021-09-20</td>\n",
       "      <td>35500.000</td>\n",
       "      <td>Plan</td>\n",
       "      <td>Overburden</td>\n",
       "      <td>TAL</td>\n",
       "    </tr>\n",
       "    <tr>\n",
       "      <th>254062</th>\n",
       "      <td>2023-11-08</td>\n",
       "      <td>73333.333</td>\n",
       "      <td>Plan</td>\n",
       "      <td>Overburden</td>\n",
       "      <td>TAL</td>\n",
       "    </tr>\n",
       "  </tbody>\n",
       "</table>\n",
       "<p>149320 rows × 5 columns</p>\n",
       "</div>"
      ],
      "text/plain": [
       "           Tanggal     Tonase   Jenis    Kategori Loc Src Area Name\n",
       "0       2020-01-01  24284.683  Actual        Coal          All Area\n",
       "1       2020-01-02  59932.859  Actual        Coal          All Area\n",
       "2       2020-01-03  46403.077  Actual        Coal          All Area\n",
       "3       2020-01-04  68253.579  Actual        Coal          All Area\n",
       "4       2020-01-05  51894.829  Actual        Coal          All Area\n",
       "...            ...        ...     ...         ...               ...\n",
       "254026  2022-09-02  33333.333    Plan  Overburden               TAL\n",
       "254043  2023-01-26  11612.903    Plan  Overburden       Banko Barat\n",
       "254054  2021-10-19  40967.742    Plan  Overburden       Banko Barat\n",
       "254060  2021-09-20  35500.000    Plan  Overburden               TAL\n",
       "254062  2023-11-08  73333.333    Plan  Overburden               TAL\n",
       "\n",
       "[149320 rows x 5 columns]"
      ]
     },
     "execution_count": 114,
     "metadata": {},
     "output_type": "execute_result"
    }
   ],
   "source": [
    "Df_Final =  pd.concat([result_df_production, result_df_MTB, result_df_BB, result_df_BT, result_df_TAL,\n",
    "                       df_Plan_all,df_Plan, result_df_OB_BT,result_df_OB_BB, result_df_OB_MTB, \n",
    "                       result_df_OB_TAL,df_Plan_all_OB,df_Plan_OB],axis=0, ignore_index=False)\n",
    "Df_Final"
   ]
  },
  {
   "cell_type": "code",
   "execution_count": 115,
   "metadata": {},
   "outputs": [],
   "source": [
    "Df_Final['Tanggal'] = pd.to_datetime(Df_Final['Tanggal'],format='mixed', errors='coerce')\n",
    "Df_Final['Last Updated'] = pd.Timestamp.now()\n",
    "Df_Final.columns=['tanggal','tonase','jenis','kategori','loc_src_Area_Name','last_update']"
   ]
  },
  {
   "cell_type": "code",
   "execution_count": 116,
   "metadata": {},
   "outputs": [],
   "source": [
    "new_column_order = ['tanggal','jenis','kategori','loc_src_Area_Name','tonase','last_update']\n",
    "Df_Final = Df_Final[new_column_order]"
   ]
  },
  {
   "cell_type": "code",
   "execution_count": null,
   "metadata": {},
   "outputs": [],
   "source": [
    "# Df_Final.to_csv('Df_Snapshot.csv')"
   ]
  },
  {
   "cell_type": "code",
   "execution_count": 119,
   "metadata": {},
   "outputs": [
    {
     "name": "stdout",
     "output_type": "stream",
     "text": [
      "Sedang Import ke DM_forecast_prod_v1\n",
      "Koneksi ke database berhasil.\n",
      "Tabel berhasil di-truncate.\n",
      "Berhasil Insert 149320 baris data.\n",
      "Forecasting Done\n"
     ]
    }
   ],
   "source": [
    "print(\"Sedang Import ke DM_forecast_prod_v1\")\n",
    "\n",
    "import pyodbc\n",
    "from dotenv import load_dotenv\n",
    "import os\n",
    "import pandas as pd\n",
    "\n",
    "# Koneksi ke SQL Server\n",
    "server = '10.3.4.99,1433'  # Ubah sesuai kebutuhan\n",
    "database = 'dwh_dev'\n",
    "username = 'cybertrend'\n",
    "password = 'cn70HJBQHRfsoOS'\n",
    "\n",
    "# Inisialisasi koneksi ke SQL Server\n",
    "try:\n",
    "    conn = pyodbc.connect(\n",
    "        f'DRIVER={{SQL Server}};SERVER={server};DATABASE={database};UID={username};PWD={password}'\n",
    "    )\n",
    "    print(\"Koneksi ke database berhasil.\")\n",
    "except Exception as e:\n",
    "    print(f\"Error saat mencoba koneksi ke database: {e}\")\n",
    "    exit()\n",
    "\n",
    "cursor = conn.cursor()\n",
    "\n",
    "# Proses truncate tabel\n",
    "truncate_query = \"TRUNCATE TABLE dwh.DM_forecast_prod_v1\"\n",
    "try:\n",
    "    cursor.execute(truncate_query)\n",
    "    conn.commit()\n",
    "    print(\"Tabel berhasil di-truncate.\")\n",
    "except Exception as e:\n",
    "    print(f\"Error saat truncate tabel: {e}\")\n",
    "    conn.close()\n",
    "    exit()\n",
    "\n",
    "\n",
    "# Pastikan `Df_Final` sudah didefinisikan\n",
    "if 'Df_Final' not in globals():\n",
    "    print(\"Error: DataFrame `Df_Final` tidak ditemukan.\")\n",
    "    conn.close()\n",
    "    exit()\n",
    "\n",
    "# Menyiapkan query untuk insert\n",
    "insert_query = \"\"\"\n",
    "    INSERT INTO dwh.DM_forecast_prod_v1 \n",
    "    (tanggal, jenis, kategori, loc_src_Area_Name, tonase, last_update)\n",
    "    VALUES (?, ?, ?, ?, ?, ?)\n",
    "\"\"\"\n",
    "\n",
    "rows_to_insert = [tuple(row) for row in Df_Final.itertuples(index=False)]\n",
    "\n",
    "# Proses insert data\n",
    "cursor.fast_executemany = True\n",
    "try:\n",
    "    cursor.executemany(insert_query, rows_to_insert)\n",
    "    conn.commit()\n",
    "    print(f\"Berhasil Insert {len(rows_to_insert)} baris data.\")\n",
    "except Exception as e:\n",
    "    conn.rollback()\n",
    "    print(f\"Error saat menginsert data: {e}\")\n",
    "\n",
    "# Menutup koneksi\n",
    "cursor.close()\n",
    "conn.close()\n",
    "print(\"Forecasting Done\")\n"
   ]
  },
  {
   "cell_type": "code",
   "execution_count": null,
   "metadata": {},
   "outputs": [],
   "source": []
  }
 ],
 "metadata": {
  "kernelspec": {
   "display_name": "Ujicobalagi",
   "language": "python",
   "name": "python3"
  },
  "language_info": {
   "codemirror_mode": {
    "name": "ipython",
    "version": 3
   },
   "file_extension": ".py",
   "mimetype": "text/x-python",
   "name": "python",
   "nbconvert_exporter": "python",
   "pygments_lexer": "ipython3",
   "version": "3.11.7"
  }
 },
 "nbformat": 4,
 "nbformat_minor": 2
}
